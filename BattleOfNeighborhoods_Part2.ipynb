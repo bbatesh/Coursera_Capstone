{
 "cells": [
  {
   "cell_type": "markdown",
   "metadata": {},
   "source": [
    "# Capstone Project\n",
    "\n",
    "# The Battle of Neighborhoods - Part 2"
   ]
  },
  {
   "cell_type": "markdown",
   "metadata": {},
   "source": [
    "## INTRODUCTION"
   ]
  },
  {
   "cell_type": "markdown",
   "metadata": {},
   "source": [
    "Police forces face a problem of limited resources and where to apply them. If they could gain an insight into where higher crime rates are likely to occur then a more efficient approach could be achieved.\n",
    "    \n",
    "In this capstone we will look at a combination of crime data and venues to see if there is a statistical/ML method of comparing neighborhoods and whether a particular cluster of venues implies a high crime rate.\n",
    "\n",
    "Also, we shall examine 2 areas, the city of Reading and the city of Oxford. Both of these are cities in the south of England and contain a large university. Oxford has a population of approx 150,00 with Reading just over 210,000.\n",
    "\n",
    "The ultimate aim and indeed measure of usefulness of this study is to help law enforcement to focus on particular crime types and be able to apply resources more efficiently to a particular area. To keep the size of this study manageable only the following questions will be investigated.\n",
    "\n",
    "1. Are there similarities in the kinds of venues at or near to a crime hot spot, irrespective of the type of crime?\n",
    "1. Focussing on shoplifting, are particular types of venues subject to shoplifting crimes?\n",
    "1. \"Shoplifting peaks between 3 p.m. and 4 p.m., and is lowest from 6 a.m. and 7 a.m.\" - is this true?\n",
    "1. Is there a set of types of crime and of venues which indicate higher crime activity.\n",
    "\n",
    "Across a country any area can be portioned into a neighborhood. For the purposes of this Capstone we regard a neighbourhood to cover a few miles in width. For the 2 area in consideration, Reading and Oxford, we shall center on the main shopping/retail/late night entertainment region of each.\n",
    "\n",
    "A neighborhood will contain areas with differing crime levels. High crime is typically not spread over an area but will be concentrated into so called 'hot-spots'. If we can identify these hot-spots then we can look into whether the kinds of venues in the vicinity of that hot-spot such as shops, bars, cinemas etc indicate a likelihood of crime occurring there in future."
   ]
  },
  {
   "cell_type": "markdown",
   "metadata": {},
   "source": [
    "## DATA"
   ]
  },
  {
   "cell_type": "markdown",
   "metadata": {},
   "source": [
    "In this study there are two groups of data. One is the crime data with location details and the other is the venue information also with location details."
   ]
  },
  {
   "cell_type": "markdown",
   "metadata": {},
   "source": [
    "**1. Location of crimes**"
   ]
  },
  {
   "cell_type": "markdown",
   "metadata": {},
   "source": [
    "## Data 1 - Crime Data\n",
    "\n",
    "Here we combine spatial data regarding police neighborhoods, given in JSON format of latitude longitude coordinates, with crime data that also has lat long coordinates.\n",
    "\n",
    "#### Police Neighborhood spatial data\n",
    "\n",
    "JSON list of latitude, longitude coordinates defining the boundary of the neighborhood.\n",
    "\n",
    "https://data.police.uk/data/\n",
    "\n",
    "Firstly, get the list of police forces in England.\n",
    "\n",
    "The end point does not require any parameters. \n",
    "The returned JSON is in the form of a list with each list element being \"id\":\"&lt;force id>\", \"name\":\"&lt;force name>\".\n",
    "\n",
    "| Endpoint  | Return Type | Example |\n",
    "| ------------- | ------------- | ---|\n",
    "| https://data.police.uk/api/forces  | JSON  | <pre>[ {\"id\":\"bedfordshire\",\"name\":\"Bedfordshire Police\"},</pre> |\n",
    "\n",
    "\n",
    "Then get the neighborhoods for a police force, (use the force id - my apologies to Star Wars fans).\n",
    "The endpoint requires the force id from the previous step, e.g. bedfordshire.\n",
    "The returned JSON is in the form of a list with each list element being \"id\":\"&lt;neighborhood id>\", \"name\":\"&lt;neighborhood name>\".\n",
    "\n",
    "| Endpoint | Return Type | Example |\n",
    "| ------------- | ------------- | ---|\n",
    "| https://data.police.uk/api/bedfordshire/neighbourhoods | JSON | <pre>[{\"id\":\"BD1\",\"name\":\"Ampthill,Flitwick,Silsoe\"},</pre> |\n",
    "\n",
    "and finally, get the boundary in latitude, longitude pairs for that neighborhood (use the neighborhood id).\n",
    "The endpoint requires the force id from the first step, e.g. bedfordshire, and the neighborhood id from the previous step, e.g. BD2.\n",
    "The returned JSON is in the form of a list with each list element being \"latitude\": latitude of boundary vertex, \"longitude\": longitude of boundary vertex.\n",
    "\n",
    "| Endpoint  | Return Type | Example |\n",
    "| ------------- | ------------- | ---|\n",
    "| https://data.police.uk/api/bedfordshire/BD2/boundary | JSON | <pre>[{\"latitude\":\"52.200075375\",\"longitude\":\"-0.548369535\"}, </pre>|"
   ]
  },
  {
   "cell_type": "markdown",
   "metadata": {},
   "source": [
    "#### Crime data per police force\n",
    "\n",
    "A police force is a collection of neighborhoods. The crime data shows the type of crime, time it took place and the latitude, longitude co-ordinates within that police force area. The crime data is split by month into separate csv files.\n",
    "\n",
    "The data is not split into neighborhoods but is for the whole police force. The boundaries serve to give us a way to filter the data into more manageable data sizes.\n",
    "\n",
    "https://data.police.uk/data/\n",
    "\n",
    "![alt text](CrimeData.png \"Police Crime Data - Main Page\")\n",
    "\n",
    "It is also possible to query the police API for the same data within a polygon region and for a specific month."
   ]
  },
  {
   "cell_type": "code",
   "execution_count": 1,
   "metadata": {},
   "outputs": [],
   "source": [
    "import requests\n",
    "import json\n",
    "import pandas as pd\n",
    "import pickle\n",
    "import numpy as np\n",
    "import folium\n",
    "\n",
    "import math\n",
    "\n",
    "import os\n",
    "\n",
    "import matplotlib.cm as cm\n",
    "import matplotlib.colors as colors\n",
    "import matplotlib.pyplot as plt\n",
    "from matplotlib.colors import rgb2hex\n",
    "\n",
    "# import k-means from clustering stage\n",
    "from sklearn.cluster import KMeans"
   ]
  },
  {
   "cell_type": "markdown",
   "metadata": {},
   "source": [
    "The regions we are using are already known from examining the available UK police forces and corresponding areas within that police force.\n",
    "\n",
    "'Abbey / Battle' is the central shopping and bar district in the town of Reading in Berkshire, UK.\n",
    "\n",
    "'Oxford Central' is the equivalent district in the city of Oxford.\n",
    "\n",
    "Both regions are simlar in both size and type. They contain universities and substantial shops and bars etc..\n",
    "\n",
    "Also, both are within the coverage of the Thames Valley Police Force."
   ]
  },
  {
   "cell_type": "code",
   "execution_count": 2,
   "metadata": {},
   "outputs": [],
   "source": [
    "# we are comparing 2 regions\n",
    "regions = [\n",
    "    { 'force': 'Thames Valley Police', 'hood': 'Abbey / Battle' },\n",
    "    { 'force': 'Thames Valley Police', 'hood': 'Oxford Central' },\n",
    "]"
   ]
  },
  {
   "cell_type": "code",
   "execution_count": 3,
   "metadata": {},
   "outputs": [],
   "source": [
    "# Crime data ENDPOINTS\n",
    "\n",
    "crime_endpoints = {\n",
    "    # note: this gets a list of all of the police forces in the UK\n",
    "    # no placeholder required\n",
    "    'force': \"https://data.police.uk/api/forces\", \n",
    "    \n",
    "    # note: given a police force id this gets all of the neighbourhoods in that police force region\n",
    "    # {} is a placeholder for the police force id\n",
    "    # example: https://data.police.uk/api/thames-valley/neighbourhoods\n",
    "    'neighbourhood': \"https://data.police.uk/api/{}/neighbourhoods\",\n",
    "    \n",
    "    # note: gets a list in latitude, longitude points defining the neighbourhood boundary shape\n",
    "    # {}/{} are placeholders for, respectively, the police force id and neighbourhood id\n",
    "    # example: https://data.police.uk/api/thames-valley/N464/boundary\n",
    "    'boundary': \"https://data.police.uk/api/{}/{}/boundary\",\n",
    "    \n",
    "    # note: \n",
    "    # {} is set of lat lon pairs lat,lon:lat,lon:....\n",
    "    # {}-{} are placeholders for 4 digit year and 2 digit month, i.e. YYYY and MM\n",
    "    # example: https://data.police.uk/api/crimes-street/all-crime?poly=52.268,0.543:52.794,0.238:52.130,0.478&date=2017-01\n",
    "    'crime': \"https://data.police.uk/api/crimes-street/all-crime?poly={}&date={}-{}\",\n",
    "    \n",
    "    # note: returns the valid set of crime categories as of a given date\n",
    "    # DOC: https://data.police.uk/docs/method/crime-categories/\n",
    "    # {}-{} are placeholders for 4 digit year and 2 digit month, i.e. YYYY and MM\n",
    "    # example: https://data.police.uk/api/crime-categories?date=2011-08\n",
    "    'categories':\"https://data.police.uk/api/crime-categories?date={}-{}\",\n",
    "}"
   ]
  },
  {
   "cell_type": "code",
   "execution_count": 4,
   "metadata": {},
   "outputs": [
    {
     "name": "stdout",
     "output_type": "stream",
     "text": [
      "endpoint called:\n",
      "https://data.police.uk/api/forces\n",
      "\n",
      "top and tail forces from list\n",
      "=============================\n",
      "{'id': 'avon-and-somerset', 'name': 'Avon and Somerset Constabulary'}\n",
      "{'id': 'bedfordshire', 'name': 'Bedfordshire Police'}\n",
      "...\n",
      "...\n",
      "{'id': 'west-yorkshire', 'name': 'West Yorkshire Police'}\n",
      "{'id': 'wiltshire', 'name': 'Wiltshire Police'}\n",
      "\n",
      "\n",
      "[{'force': 'Thames Valley Police', 'hood': 'Abbey / Battle', 'force_id': 'thames-valley'}, {'force': 'Thames Valley Police', 'hood': 'Oxford Central', 'force_id': 'thames-valley'}]\n"
     ]
    }
   ],
   "source": [
    "# CRIME DATA - 1. get the police force id\n",
    "\n",
    "endpoint = crime_endpoints['force']\n",
    "json_forces = requests.get(endpoint).json()\n",
    "\n",
    "print(\"endpoint called:\")\n",
    "print(endpoint)\n",
    "print()\n",
    "print(\"top and tail forces from list\")\n",
    "print(\"=============================\")\n",
    "print(*json_forces[0:2], sep='\\n')\n",
    "print(\"...\\n\"*2,end='')\n",
    "print(*json_forces[-2:], sep='\\n')\n",
    "\n",
    "for region in regions:\n",
    "    force_name = region['force'] #'Thames Valley Police'\n",
    "    force = list(filter(lambda x: x['name'] == force_name, json_forces))[0]\n",
    "    region['force_id'] = force['id']\n",
    "\n",
    "    print()\n",
    "print(regions)"
   ]
  },
  {
   "cell_type": "code",
   "execution_count": 5,
   "metadata": {},
   "outputs": [
    {
     "name": "stdout",
     "output_type": "stream",
     "text": [
      "endpoint called:\n",
      "https://data.police.uk/api/thames-valley/neighbourhoods\n",
      "\n",
      "top and tail neighbourhoods from list\n",
      "=============================\n",
      "{'id': 'N106', 'name': 'Aylesbury Town Centre'}\n",
      "{'id': 'N200', 'name': 'Newbury Town Centre'}\n",
      "...\n",
      "...\n",
      "{'id': 'N477', 'name': 'Iver / Stoke Poges / Wexham'}\n",
      "{'id': 'N478', 'name': 'Beaconsfield'}\n",
      "endpoint called:\n",
      "https://data.police.uk/api/thames-valley/neighbourhoods\n",
      "\n",
      "top and tail neighbourhoods from list\n",
      "=============================\n",
      "{'id': 'N106', 'name': 'Aylesbury Town Centre'}\n",
      "{'id': 'N200', 'name': 'Newbury Town Centre'}\n",
      "...\n",
      "...\n",
      "{'id': 'N477', 'name': 'Iver / Stoke Poges / Wexham'}\n",
      "{'id': 'N478', 'name': 'Beaconsfield'}\n",
      "\n",
      "[{'force': 'Thames Valley Police', 'hood': 'Abbey / Battle', 'force_id': 'thames-valley', 'hood_id': 'N464'}, {'force': 'Thames Valley Police', 'hood': 'Oxford Central', 'force_id': 'thames-valley', 'hood_id': 'N448'}]\n"
     ]
    }
   ],
   "source": [
    "# CRIME DATA - 2. get the neighbourhood id\n",
    "#hood_name = r'Abbey / Battle'\n",
    "for region in regions:\n",
    "    force_id = region['force_id']\n",
    "    endpoint = crime_endpoints['neighbourhood'].format(force_id)\n",
    "    json_hoods = requests.get(endpoint).json()\n",
    "\n",
    "    print(\"endpoint called:\")\n",
    "    print(endpoint)\n",
    "    print()\n",
    "    print(\"top and tail neighbourhoods from list\")\n",
    "    print(\"=============================\")\n",
    "    print(*json_hoods[0:2], sep='\\n')\n",
    "    print(\"...\\n\"*2,end='')\n",
    "    print(*json_hoods[-2:], sep='\\n')\n",
    "\n",
    "    hood_name = region['hood']\n",
    "    hood = list(filter(lambda x: x['name'] == hood_name, json_hoods))[0]\n",
    "    region['hood_id'] = hood['id']\n",
    "\n",
    "print()\n",
    "print(regions)"
   ]
  },
  {
   "cell_type": "code",
   "execution_count": 6,
   "metadata": {},
   "outputs": [],
   "source": [
    "# Now for each hood boundary plus bounding box\n",
    "for region in regions:\n",
    "    force_id = region['force_id']\n",
    "    hood_id = region['hood_id']\n",
    "    endpoint = crime_endpoints['boundary'].format(force_id, hood_id)\n",
    "    json_boundary = requests.get(endpoint).json()\n",
    "\n",
    "    region['boundary'] = [ [float(latlon['latitude']),float(latlon['longitude'])] for latlon in json_boundary]\n",
    "    \n",
    "    lat = [ ll[0] for ll in region['boundary'] ]\n",
    "    lon = [ ll[1] for ll in region['boundary'] ]\n",
    "    region['bbox'] = { \n",
    "        'sw':[min(lat),min(lon)],\n",
    "        'ne':[max(lat),max(lon)]\n",
    "    }"
   ]
  },
  {
   "cell_type": "code",
   "execution_count": 7,
   "metadata": {},
   "outputs": [
    {
     "name": "stdout",
     "output_type": "stream",
     "text": [
      "Thames Valley Police\n",
      "Abbey / Battle\n",
      "2018-06 859\n",
      "2018-07 1644\n",
      "2018-08 2493\n",
      "2018-09 3204\n",
      "2018-10 3883\n",
      "2018-11 4529\n",
      "2018-12 5155\n",
      "2019-01 5751\n",
      "2019-02 6288\n",
      "Thames Valley Police\n",
      "Oxford Central\n",
      "2018-06 652\n",
      "2018-07 1324\n",
      "2018-08 1985\n",
      "2018-09 2609\n",
      "2018-10 3339\n",
      "2018-11 3982\n",
      "2018-12 4508\n",
      "2019-01 5037\n",
      "2019-02 5513\n"
     ]
    }
   ],
   "source": [
    "def make_bbox(sw,ne):\n",
    "    return [sw,[sw[0],ne[1]],ne,[ne[0],sw[1]]]\n",
    "\n",
    "json_crimes = []\n",
    "year = 2018\n",
    "month = 6\n",
    "nmonths = 9\n",
    "for region in regions:\n",
    "    year = 2018\n",
    "    month = 6\n",
    "    print(region['force'])\n",
    "    print(region['hood'])\n",
    "    region['crimes'] = []\n",
    "    bbox = make_bbox(region['bbox']['sw'], region['bbox']['ne'])\n",
    "    polys = ':'.join([f\"{b[0]},{b[1]}\" for b in bbox])\n",
    "    for i in range(nmonths):\n",
    "        syear = str(year)\n",
    "        smonth = (\"0\"+str(month))[-2:]\n",
    "                \n",
    "        month += 1\n",
    "        if month == 13:\n",
    "            month = 1\n",
    "            year +=1\n",
    "        \n",
    "        endpoint = crime_endpoints['crime'].format(polys, syear, smonth)\n",
    "        region['crimes'].extend(requests.get(endpoint).json())\n",
    "        \n",
    "        print(f\"{syear}-{smonth} {len(region['crimes'])}\")\n",
    "    # for each crime in region['crimes'] I will need\n",
    "    # crime['category']\n",
    "    # crime['location']['latitude'],crime['location']['longitude']\n",
    "\n",
    "    dfcrimes = pd.DataFrame(data=region['crimes'])\n",
    "\n",
    "    # also extract the latitude and longitude into their own columns\n",
    "    dfcrimes['latitude'] = dfcrimes.apply(lambda x: float(x.location['latitude']),axis=1)\n",
    "    dfcrimes['longitude'] = dfcrimes.apply(lambda x: float(x.location['longitude']),axis=1)\n",
    "\n",
    "    region['dfcrimes'] = dfcrimes"
   ]
  },
  {
   "cell_type": "code",
   "execution_count": 8,
   "metadata": {},
   "outputs": [
    {
     "name": "stdout",
     "output_type": "stream",
     "text": [
      "Thames Valley Police:Abbey / Battle\n",
      "========================================\n",
      "\n",
      "             category location_type context persistent_id location_subtype  \\\n",
      "count            6288          6288    6288          6288             6288   \n",
      "unique             14             2       1          6000                2   \n",
      "top     violent-crime         Force                                          \n",
      "freq             1761          6008    6288           280             6008   \n",
      "mean              NaN           NaN     NaN           NaN              NaN   \n",
      "std               NaN           NaN     NaN           NaN              NaN   \n",
      "min               NaN           NaN     NaN           NaN              NaN   \n",
      "25%               NaN           NaN     NaN           NaN              NaN   \n",
      "50%               NaN           NaN     NaN           NaN              NaN   \n",
      "75%               NaN           NaN     NaN           NaN              NaN   \n",
      "max               NaN           NaN     NaN           NaN              NaN   \n",
      "\n",
      "          month     latitude    longitude  \n",
      "count      6288  6288.000000  6288.000000  \n",
      "unique        9          NaN          NaN  \n",
      "top     2018-06          NaN          NaN  \n",
      "freq        859          NaN          NaN  \n",
      "mean        NaN    51.457109    -0.976248  \n",
      "std         NaN     0.004356     0.013355  \n",
      "min         NaN    51.450438    -1.008177  \n",
      "25%         NaN    51.454048    -0.984441  \n",
      "50%         NaN    51.456032    -0.974496  \n",
      "75%         NaN    51.459100    -0.970029  \n",
      "max         NaN    51.470269    -0.949383  \n",
      "\n",
      "\n",
      "\n",
      "Thames Valley Police:Oxford Central\n",
      "========================================\n",
      "\n",
      "             category location_type context persistent_id location_subtype  \\\n",
      "count            5513          5513    5513          5513             5513   \n",
      "unique             14             2       1          5391                2   \n",
      "top     violent-crime         Force                                          \n",
      "freq             1130          5398    5513           115             5398   \n",
      "mean              NaN           NaN     NaN           NaN              NaN   \n",
      "std               NaN           NaN     NaN           NaN              NaN   \n",
      "min               NaN           NaN     NaN           NaN              NaN   \n",
      "25%               NaN           NaN     NaN           NaN              NaN   \n",
      "50%               NaN           NaN     NaN           NaN              NaN   \n",
      "75%               NaN           NaN     NaN           NaN              NaN   \n",
      "max               NaN           NaN     NaN           NaN              NaN   \n",
      "\n",
      "          month     latitude    longitude  \n",
      "count      5513  5513.000000  5513.000000  \n",
      "unique        9          NaN          NaN  \n",
      "top     2018-10          NaN          NaN  \n",
      "freq        730          NaN          NaN  \n",
      "mean        NaN    51.753437    -1.260023  \n",
      "std         NaN     0.008385     0.011086  \n",
      "min         NaN    51.725432    -1.303234  \n",
      "25%         NaN    51.750351    -1.265167  \n",
      "50%         NaN    51.752601    -1.259564  \n",
      "75%         NaN    51.754327    -1.256412  \n",
      "max         NaN    51.781788    -1.238306  \n",
      "\n",
      "\n",
      "\n"
     ]
    }
   ],
   "source": [
    "for region in regions:\n",
    "    print(f\"{region['force']}:{region['hood']}\")\n",
    "    print(\"=\"*40)\n",
    "    print()\n",
    "    print(region['dfcrimes'].drop(columns=['location','outcome_status']).describe(include =['object', 'float', 'int']))\n",
    "    print('\\n'*2)"
   ]
  },
  {
   "cell_type": "markdown",
   "metadata": {},
   "source": [
    "There are NaNs in both latitude and longitude.<br>\n",
    "Remove rows where there is a NaN in either or both and then describe again."
   ]
  },
  {
   "cell_type": "code",
   "execution_count": 9,
   "metadata": {},
   "outputs": [
    {
     "name": "stdout",
     "output_type": "stream",
     "text": [
      "Thames Valley Police:Abbey / Battle\n",
      "========================================\n",
      "\n",
      "             category location_type context persistent_id location_subtype  \\\n",
      "count            6288          6288    6288          6288             6288   \n",
      "unique             14             2       1          6000                2   \n",
      "top     violent-crime         Force                                          \n",
      "freq             1761          6008    6288           280             6008   \n",
      "mean              NaN           NaN     NaN           NaN              NaN   \n",
      "std               NaN           NaN     NaN           NaN              NaN   \n",
      "min               NaN           NaN     NaN           NaN              NaN   \n",
      "25%               NaN           NaN     NaN           NaN              NaN   \n",
      "50%               NaN           NaN     NaN           NaN              NaN   \n",
      "75%               NaN           NaN     NaN           NaN              NaN   \n",
      "max               NaN           NaN     NaN           NaN              NaN   \n",
      "\n",
      "          month     latitude    longitude  \n",
      "count      6288  6288.000000  6288.000000  \n",
      "unique        9          NaN          NaN  \n",
      "top     2018-06          NaN          NaN  \n",
      "freq        859          NaN          NaN  \n",
      "mean        NaN    51.457109    -0.976248  \n",
      "std         NaN     0.004356     0.013355  \n",
      "min         NaN    51.450438    -1.008177  \n",
      "25%         NaN    51.454048    -0.984441  \n",
      "50%         NaN    51.456032    -0.974496  \n",
      "75%         NaN    51.459100    -0.970029  \n",
      "max         NaN    51.470269    -0.949383  \n",
      "\n",
      "\n",
      "\n",
      "Thames Valley Police:Oxford Central\n",
      "========================================\n",
      "\n",
      "             category location_type context persistent_id location_subtype  \\\n",
      "count            5513          5513    5513          5513             5513   \n",
      "unique             14             2       1          5391                2   \n",
      "top     violent-crime         Force                                          \n",
      "freq             1130          5398    5513           115             5398   \n",
      "mean              NaN           NaN     NaN           NaN              NaN   \n",
      "std               NaN           NaN     NaN           NaN              NaN   \n",
      "min               NaN           NaN     NaN           NaN              NaN   \n",
      "25%               NaN           NaN     NaN           NaN              NaN   \n",
      "50%               NaN           NaN     NaN           NaN              NaN   \n",
      "75%               NaN           NaN     NaN           NaN              NaN   \n",
      "max               NaN           NaN     NaN           NaN              NaN   \n",
      "\n",
      "          month     latitude    longitude  \n",
      "count      5513  5513.000000  5513.000000  \n",
      "unique        9          NaN          NaN  \n",
      "top     2018-10          NaN          NaN  \n",
      "freq        730          NaN          NaN  \n",
      "mean        NaN    51.753437    -1.260023  \n",
      "std         NaN     0.008385     0.011086  \n",
      "min         NaN    51.725432    -1.303234  \n",
      "25%         NaN    51.750351    -1.265167  \n",
      "50%         NaN    51.752601    -1.259564  \n",
      "75%         NaN    51.754327    -1.256412  \n",
      "max         NaN    51.781788    -1.238306  \n",
      "\n",
      "\n",
      "\n"
     ]
    }
   ],
   "source": [
    "for region in regions:\n",
    "    region['dfcrimes'].dropna(subset=['latitude', 'longitude'],inplace=True)\n",
    "\n",
    "for region in regions:\n",
    "    print(f\"{region['force']}:{region['hood']}\")\n",
    "    print(\"=\"*40)\n",
    "    print()\n",
    "    print(region['dfcrimes'].drop(columns=['location','outcome_status']).describe(include =['object', 'float', 'int']))\n",
    "    print('\\n'*2)"
   ]
  },
  {
   "cell_type": "markdown",
   "metadata": {},
   "source": [
    "Now there are no NaNs in the numerical columns, *latitude* and *longitude*."
   ]
  },
  {
   "cell_type": "code",
   "execution_count": 10,
   "metadata": {},
   "outputs": [],
   "source": [
    "regions_filename = \"regions.pkl\"\n",
    "with open(regions_filename, \"wb\") as write_file:\n",
    "    pickle.dump(regions, write_file)"
   ]
  },
  {
   "cell_type": "code",
   "execution_count": 11,
   "metadata": {},
   "outputs": [
    {
     "data": {
      "text/plain": [
       "{'public-order': '#8000ff',\n",
       " 'violent-crime': '#5a3bfd',\n",
       " 'shoplifting': '#3176f8',\n",
       " 'other-theft': '#09a9ee',\n",
       " 'vehicle-crime': '#1dd1e2',\n",
       " 'criminal-damage-arson': '#44eed2',\n",
       " 'other-crime': '#6dfdbf',\n",
       " 'possession-of-weapons': '#92fda9',\n",
       " 'robbery': '#bbee91',\n",
       " 'anti-social-behaviour': '#e2d176',\n",
       " 'burglary': '#ffa95b',\n",
       " 'bicycle-theft': '#ff763d',\n",
       " 'drugs': '#ff3b1e',\n",
       " 'theft-from-the-person': '#ff0000'}"
      ]
     },
     "execution_count": 11,
     "metadata": {},
     "output_type": "execute_result"
    }
   ],
   "source": [
    "# get a global unique set of crime categories\n",
    "crimetypes = set()\n",
    "for region in regions:\n",
    "    for crimetype in region['dfcrimes'].category.unique():\n",
    "        crimetypes.add(crimetype)\n",
    "\n",
    "colors_array = cm.rainbow(np.linspace(0, 1, len(crimetypes)))\n",
    "type_colors = dict(zip(crimetypes, map(rgb2hex,colors_array)))\n",
    "\n",
    "type_colors"
   ]
  },
  {
   "cell_type": "code",
   "execution_count": 12,
   "metadata": {},
   "outputs": [],
   "source": [
    "regions[0].keys()\n",
    "for region in regions:\n",
    "    region['name'] = region['force']+'-'+region['hood']"
   ]
  },
  {
   "cell_type": "code",
   "execution_count": 13,
   "metadata": {},
   "outputs": [
    {
     "name": "stdout",
     "output_type": "stream",
     "text": [
      "Constructing the maps of the regions\n",
      "adding  Thames Valley Police-Abbey / Battle\n",
      "adding  Thames Valley Police-Oxford Central\n",
      "..finished..\n"
     ]
    }
   ],
   "source": [
    "print(\"Constructing the maps of the regions\")\n",
    "\n",
    "map_fill_opacity = 0.7\n",
    "\n",
    "maps = {}\n",
    "\n",
    "#region['basemap']\n",
    "basemaps = {}\n",
    "\n",
    "for region in regions:\n",
    "    area_centroid_lat = (region['bbox']['sw'][0]+region['bbox']['ne'][0])/2\n",
    "    area_centroid_lng = (region['bbox']['sw'][1]+region['bbox']['ne'][1])/2\n",
    "    # get a map centered on the region\n",
    "    fmap = folium.Map(width=400,height=400,location=[area_centroid_lat,area_centroid_lng])#, zoom_start=11)\n",
    "    basemaps[region['name']] = fmap\n",
    "    #and zoom in so as to fit the boundary into the view\n",
    "    fmap.fit_bounds(bounds=[region['bbox']['sw'],region['bbox']['ne']])\n",
    "    \n",
    "    \n",
    "    points = list(map(tuple,region['boundary']))\n",
    "    fg = folium.FeatureGroup(name='boundary')\n",
    "    fg.add_child(\n",
    "        folium.PolyLine(points, color=\"blue\", weight=2.5, opacity=1)\n",
    "    )\n",
    "    fmap.add_child(fg)\n",
    "   \n",
    "    # set up the folium layers\n",
    "    fgs = dict( [(x,folium.FeatureGroup(name=''+x+'')) for x in crimetypes] )\n",
    "\n",
    "    #print(\"region\")\n",
    "    for index,crime in region['dfcrimes'].iterrows():\n",
    "        #fg = fgs[crime['Crime type']]\n",
    "        fg = fgs[crime['category']]\n",
    "        lat = crime['latitude']\n",
    "        lon = crime['longitude']\n",
    "\n",
    "        c = type_colors[crime['category']]\n",
    "        label = crime['category']\n",
    "\n",
    "        fg.add_child(\n",
    "                    folium.CircleMarker(\n",
    "                        [lat, lon],\n",
    "                        radius=1,\n",
    "                        popup=label,\n",
    "                        color=c,\n",
    "                        fill=True,\n",
    "                        fill_color=rgb2hex(c),\n",
    "                        fill_opacity=map_fill_opacity\n",
    "                    )\n",
    "                )\n",
    "        \n",
    "    for _,fg in fgs.items():\n",
    "        fmap.add_child(fg)\n",
    "\n",
    "    fmap.add_child(folium.LayerControl())   \n",
    "    \n",
    "    print(\"adding \",region['name'])\n",
    "    maps[region['name']] = fmap\n",
    "    \n",
    "    #region['crime_map'] = fmap\n",
    "\n",
    "print(\"..finished..\")"
   ]
  },
  {
   "cell_type": "code",
   "execution_count": 14,
   "metadata": {},
   "outputs": [
    {
     "name": "stdout",
     "output_type": "stream",
     "text": [
      "Thames Valley Police-Abbey / Battle\n"
     ]
    }
   ],
   "source": [
    "print(regions[0]['name'])\n",
    "#maps[regions[0]['name']]"
   ]
  },
  {
   "cell_type": "markdown",
   "metadata": {},
   "source": [
    "![alt text](AbbeyBattle_Crimes.png \"Police Crime Data - Abbey Battle\")"
   ]
  },
  {
   "cell_type": "code",
   "execution_count": 15,
   "metadata": {},
   "outputs": [
    {
     "name": "stdout",
     "output_type": "stream",
     "text": [
      "Thames Valley Police-Oxford Central\n"
     ]
    }
   ],
   "source": [
    "print(regions[1]['name'])\n",
    "#maps[regions[1]['name']]"
   ]
  },
  {
   "cell_type": "markdown",
   "metadata": {},
   "source": [
    "![alt text](Oxford_Crimes.png \"Police Crime Data - Oxford Central\")"
   ]
  },
  {
   "cell_type": "markdown",
   "metadata": {},
   "source": [
    "Now we have the crime data - i.e. the date, the type, the location - then we can gridify the areas into equal sized square cells.\n",
    "\n",
    "Our method for calculating the crime stats is to simply start with the center of the cell and count the numebr of crimes within a certain radius. We use a search radius that is larger than the cell size. For this report we used 100 metres as the cell size (each side) and 300m as the search radius.\n",
    "\n",
    "Issues with the data include the locations are in latitude longitude and we need to calculate the straight line distance between the cell center and the crime. For this we transform the points using a combination of functions as describe below:\n",
    "\n",
    "*function Haversine*. from https://www.movable-type.co.uk/scripts/latlong.html (2019)<p>\n",
    "   This uses the ‘haversine’ formula to calculate the great-circle distance between two points – that is, \n",
    "    the shortest distance over the earth’s surface – giving an ‘as-the-crow-flies’ distance between the points (ignoring any hills they fly over, of course!). Haversine formula:    \n",
    "    \n",
    "\\begin{align}\n",
    "    a & = sin^2(\\Delta\\phi/2) + cos \\phi_1 ⋅ cos \\phi_2 ⋅ sin^2(\\Delta\\lambda/2)\\\\\n",
    "    c & = 2 ⋅ atan2( \\sqrt a, \\sqrt(1−a) )\\\\\n",
    "    d & = R ⋅ c\n",
    "\\end{align}\n",
    "    \n",
    "where $\\phi$ is latitude, $\\lambda$ is longitude, **R** is Earth’s radius (mean radius = 6,371km), note that angles need to be in radians to pass to trig functions! <p>This is typically used to find the distance between a cell center ($\\phi_1$, $\\lambda_1$) and the crime ($\\phi_2$, $\\lambda_2$) and $\\Delta\\phi = \\phi_1 - \\phi_2$, $\\Delta \\lambda = \\lambda_1 - \\lambda_2$.\n",
    "     \n",
    "*function newpointfromdistanceandbearing*. from https://www.movable-type.co.uk/scripts/latlong.html (2019)<p>\n",
    "    Given a latitude, longitude point and a distance plus a bearing then return a new point:\n",
    "    \n",
    "\\begin{align}\n",
    "    \\phi_2 & = asin( sin \\phi_1 ⋅ cos δ + cos \\phi_1 ⋅ sin δ ⋅ cos θ )\\\\\n",
    "    \\lambda_2 & = \\lambda_1 + atan2( sin θ ⋅ sin δ ⋅ cos \\phi_1, cos δ − sin \\phi_1 ⋅ sin \\phi_2 )   \\\\\n",
    "\\end{align}\n",
    "\n",
    "where $\\phi$ is latitude, $\\lambda$ is longitude, $\\theta$ is the bearing (clockwise from north), $\\delta$ is the angular distance $d/R$;\n",
    "    d being the distance travelled, R the Earth’s radius"
   ]
  },
  {
   "cell_type": "code",
   "execution_count": 16,
   "metadata": {},
   "outputs": [],
   "source": [
    "def Haversine(lat1,lon1,lat2,lon2, **kwarg):\n",
    "    \"\"\"\n",
    "    This uses the ‘haversine’ formula to calculate the great-circle distance between two points – that is, \n",
    "    the shortest distance over the earth’s surface – giving an ‘as-the-crow-flies’ distance between the points \n",
    "    (ignoring any hills they fly over, of course!).\n",
    "    Haversine\n",
    "    formula:    a = sin²(Δφ/2) + cos φ1 ⋅ cos φ2 ⋅ sin²(Δλ/2)\n",
    "    c = 2 ⋅ atan2( √a, √(1−a) )\n",
    "    d = R ⋅ c\n",
    "    where   φ is latitude, λ is longitude, R is earth’s radius (mean radius = 6,371km);\n",
    "    note that angles need to be in radians to pass to trig functions!\n",
    "    \"\"\"\n",
    "    R = 6371.0088\n",
    "    lat1,lon1,lat2,lon2 = map(np.radians, [lat1,lon1,lat2,lon2])\n",
    "\n",
    "    dlat = lat2 - lat1\n",
    "    dlon = lon2 - lon1\n",
    "    a = np.sin(dlat/2)**2 + np.cos(lat1) * np.cos(lat2) * np.sin(dlon/2) **2\n",
    "    c = 2 * np.arctan2(a**0.5, (1-a)**0.5)\n",
    "    d = R * c\n",
    "    return round(d,4)\n",
    "\n",
    "def newpointfromdistanceandbearing(lat,lon,distance, bearing):\n",
    "    \"\"\"\n",
    "    φ2 = asin( sin φ1 ⋅ cos δ + cos φ1 ⋅ sin δ ⋅ cos θ )\n",
    "    λ2 = λ1 + atan2( sin θ ⋅ sin δ ⋅ cos φ1, cos δ − sin φ1 ⋅ sin φ2 )   \n",
    "    where φ is latitude, λ is longitude, θ is the bearing (clockwise from north), δ is the angular distance d/R;\n",
    "    d being the distance travelled, R the earth’s radius\n",
    "    \"\"\"\n",
    "    R = 6371.0088\n",
    "    angdist = distance/R\n",
    "    lat1,lon1,bearing = map(np.radians, [lat,lon,bearing])\n",
    "    latnew = math.asin(np.sin(lat1)*np.cos(angdist)+\n",
    "                       np.cos(lat1)*np.sin(angdist)*np.cos(bearing))\n",
    "    lonnew = lon1+ math.atan2(math.sin(bearing)*math.sin(angdist)*math.cos(lat1),math.cos(angdist)-math.sin(lat1)*math.sin(latnew))\n",
    "    lat2,lon2 = map(np.degrees,[latnew,lonnew])\n",
    "    return lat2,lon2"
   ]
  },
  {
   "cell_type": "code",
   "execution_count": 17,
   "metadata": {},
   "outputs": [],
   "source": [
    "def get_crimes(df, cell, search_radius):\n",
    "    d1 = df[(df.x >= cell[0]-search_radius) & \n",
    "               (df.x <= cell[0]+search_radius) & \n",
    "               (df.y >= cell[1]-search_radius) &\n",
    "               (df.y <= cell[1]+search_radius)]\n",
    "    return d1[d1.apply(lambda row: distance(row.x-cell[0], row.y-cell[1]) <= search_radius, axis=1)]"
   ]
  },
  {
   "cell_type": "code",
   "execution_count": 18,
   "metadata": {},
   "outputs": [
    {
     "name": "stderr",
     "output_type": "stream",
     "text": [
      "C:\\Users\\BRIAN\\Anaconda3\\lib\\site-packages\\ipykernel_launcher.py:12: SettingWithCopyWarning: \n",
      "A value is trying to be set on a copy of a slice from a DataFrame.\n",
      "Try using .loc[row_indexer,col_indexer] = value instead\n",
      "\n",
      "See the caveats in the documentation: http://pandas.pydata.org/pandas-docs/stable/user_guide/indexing.html#returning-a-view-versus-a-copy\n",
      "  if sys.path[0] == '':\n",
      "C:\\Users\\BRIAN\\Anaconda3\\lib\\site-packages\\ipykernel_launcher.py:13: SettingWithCopyWarning: \n",
      "A value is trying to be set on a copy of a slice from a DataFrame.\n",
      "Try using .loc[row_indexer,col_indexer] = value instead\n",
      "\n",
      "See the caveats in the documentation: http://pandas.pydata.org/pandas-docs/stable/user_guide/indexing.html#returning-a-view-versus-a-copy\n",
      "  del sys.path[0]\n"
     ]
    }
   ],
   "source": [
    "cell_size = 100.0\n",
    "search_radius = 3*cell_size\n",
    "L2_distance = lambda x,y : math.sqrt(x*x + y*y) \n",
    "\n",
    "distance = L2_distance\n",
    "\n",
    "for region in regions:\n",
    "    bbox = region['bbox']\n",
    "    bbox_origin = bbox['sw']\n",
    "    df_ll = region['dfcrimes'][['latitude','longitude']]\n",
    "    \n",
    "    df_ll['x'] = df_ll.apply(lambda x: 1000.0*Haversine(bbox_origin[0],bbox_origin[1],x.latitude,bbox_origin[1]),axis=1)\n",
    "    df_ll['y'] = df_ll.apply(lambda x: 1000.0*Haversine(bbox_origin[0],bbox_origin[1],bbox_origin[0],x.longitude),axis=1)\n",
    "    \n",
    "    nlat = int(round(1000*Haversine(bbox['sw'][0],bbox['sw'][1],bbox['ne'][0],bbox['sw'][1])/cell_size,0))\n",
    "    nlon = int(round(1000*Haversine(bbox['sw'][0],bbox['sw'][1],bbox['sw'][0],bbox['ne'][1])/cell_size,0))\n",
    "    \n",
    "    dlat = newpointfromdistanceandbearing(bbox['sw'][0],bbox['sw'][1],cell_size/1000,0)[0]-bbox['sw'][0]\n",
    "    dlon = newpointfromdistanceandbearing(bbox['sw'][0],bbox['sw'][1],cell_size/1000,90)[1]-bbox['sw'][1]\n",
    "\n",
    "    cell_xy = [( (ix+0.5)*cell_size, (iy+0.5)*cell_size, ix, iy, bbox['sw'][0]+( (ix+0.5)*dlat), bbox['sw'][1]+( (iy+0.5)*dlon) ) for ix in range(nlat) for iy in range(nlon)]\n",
    "\n",
    "    region['crimes'] = [(cell[2],cell[3], cell[4], cell[5],  len(get_crimes(df_ll,cell,search_radius)) ) for cell in cell_xy]\n",
    "    region['crimes_info'] = [dlat,dlon,nlat,nlon]"
   ]
  },
  {
   "cell_type": "markdown",
   "metadata": {},
   "source": [
    "### HOTSPOT IDENTIFICATION\n",
    "\n",
    "Here we take the area defined by the boundary "
   ]
  },
  {
   "cell_type": "code",
   "execution_count": 19,
   "metadata": {},
   "outputs": [
    {
     "data": {
      "image/png": "[encoded data removed]",
      "text/plain": [
       "<Figure size 1800x720 with 4 Axes>"
      ]
     },
     "metadata": {},
     "output_type": "display_data"
    }
   ],
   "source": [
    "%matplotlib inline\n",
    "\n",
    "import seaborn as sns; sns.set()\n",
    "\n",
    "min_crimes = 900\n",
    "\n",
    "fig, axes = plt.subplots(1, 2, figsize = (25,10))\n",
    "nax = 0\n",
    "for region in regions:\n",
    "    nx = max([c[0] for c in region['crimes']])\n",
    "    ny = max([c[1] for c in region['crimes']])\n",
    "    cc1 = [c[4] for c in region['crimes']]\n",
    "    \n",
    "    data = np.reshape(cc1, (nx+1, ny+1 ))\n",
    "    \n",
    "    data = (data > min_crimes) * data\n",
    "    \n",
    "    ax = sns.heatmap(data, ax = axes[nax])\n",
    "    ax.set_title(region['name'])\n",
    "    nax += 1\n",
    "    ax.invert_yaxis()\n",
    "\n",
    "    im = ax.collections[0]\n",
    "    region['rgba_values'] = im.cmap(im.norm(im.get_array()))"
   ]
  },
  {
   "cell_type": "code",
   "execution_count": 20,
   "metadata": {},
   "outputs": [],
   "source": [
    "import copy\n",
    "\n",
    "hotspot_maps = {}\n",
    "\n",
    "for region in regions:\n",
    "    #region = regions[0]\n",
    "    crimes = pd.DataFrame(region['crimes'],columns = ['ix','iy','lat','lon','stat'])\n",
    "    min_crimes = 900\n",
    "    region['hotspots'] = crimes[crimes.stat > min_crimes]\n",
    "    region['hotspots_rgbas'] = region['rgba_values'][crimes.stat > min_crimes]\n",
    "    dlat = region['crimes_info'][0]\n",
    "    dlon = region['crimes_info'][1]\n",
    "    area_centroid_lat = (region['bbox']['sw'][0]+region['bbox']['ne'][0])/2\n",
    "    area_centroid_lng = (region['bbox']['sw'][1]+region['bbox']['ne'][1])/2\n",
    "    # get a map centered on the region\n",
    "    hotspot_maps[region['name']] = folium.Map(width=400,height=400,location=[area_centroid_lat,area_centroid_lng],titles=region['name'], attr=\"attribution\")\n",
    "    #mymap = copy.copy(region['basemap'])\n",
    "    hotspot_maps[region['name']].fit_bounds(bounds=[region['bbox']['sw'],region['bbox']['ne']])\n",
    "    for element in zip(region['hotspots'].iterrows(),region['hotspots_rgbas']):\n",
    "        hotspot = element[0]\n",
    "        rgba = element[1]\n",
    "        folium.Rectangle(\n",
    "                        [[hotspot[1].lat-(dlat/2.0), hotspot[1].lon-(dlon/2.0)],[hotspot[1].lat+(dlat/2.0), hotspot[1].lon+(dlon/2.0)] ],\n",
    "                        #popup=label,\n",
    "                        #popup=None,\n",
    "                        popup=(folium.Popup(f\"{int(hotspot[1].stat)}\")),\n",
    "                        color=rgb2hex(rgba),\n",
    "                        weight=2,\n",
    "                        fill_opacity=0.6,\n",
    "                        opacity=0.4,\n",
    "                        fill=True,\n",
    "                        ).add_to(hotspot_maps[region['name']])\n"
   ]
  },
  {
   "cell_type": "code",
   "execution_count": 21,
   "metadata": {},
   "outputs": [
    {
     "data": {
      "text/html": [
       "<div>\n",
       "<style scoped>\n",
       "    .dataframe tbody tr th:only-of-type {\n",
       "        vertical-align: middle;\n",
       "    }\n",
       "\n",
       "    .dataframe tbody tr th {\n",
       "        vertical-align: top;\n",
       "    }\n",
       "\n",
       "    .dataframe thead th {\n",
       "        text-align: right;\n",
       "    }\n",
       "</style>\n",
       "<table border=\"1\" class=\"dataframe\">\n",
       "  <thead>\n",
       "    <tr style=\"text-align: right;\">\n",
       "      <th></th>\n",
       "      <th>ix</th>\n",
       "      <th>iy</th>\n",
       "      <th>lat</th>\n",
       "      <th>lon</th>\n",
       "      <th>stat</th>\n",
       "    </tr>\n",
       "  </thead>\n",
       "  <tbody>\n",
       "    <tr>\n",
       "      <td>144</td>\n",
       "      <td>3</td>\n",
       "      <td>21</td>\n",
       "      <td>51.453568</td>\n",
       "      <td>-0.977185</td>\n",
       "      <td>989</td>\n",
       "    </tr>\n",
       "    <tr>\n",
       "      <td>145</td>\n",
       "      <td>3</td>\n",
       "      <td>22</td>\n",
       "      <td>51.453568</td>\n",
       "      <td>-0.975742</td>\n",
       "      <td>997</td>\n",
       "    </tr>\n",
       "    <tr>\n",
       "      <td>146</td>\n",
       "      <td>3</td>\n",
       "      <td>23</td>\n",
       "      <td>51.453568</td>\n",
       "      <td>-0.974298</td>\n",
       "      <td>1092</td>\n",
       "    </tr>\n",
       "    <tr>\n",
       "      <td>147</td>\n",
       "      <td>3</td>\n",
       "      <td>24</td>\n",
       "      <td>51.453568</td>\n",
       "      <td>-0.972855</td>\n",
       "      <td>1090</td>\n",
       "    </tr>\n",
       "    <tr>\n",
       "      <td>148</td>\n",
       "      <td>3</td>\n",
       "      <td>25</td>\n",
       "      <td>51.453568</td>\n",
       "      <td>-0.971412</td>\n",
       "      <td>1026</td>\n",
       "    </tr>\n",
       "  </tbody>\n",
       "</table>\n",
       "</div>"
      ],
      "text/plain": [
       "     ix  iy        lat       lon  stat\n",
       "144   3  21  51.453568 -0.977185   989\n",
       "145   3  22  51.453568 -0.975742   997\n",
       "146   3  23  51.453568 -0.974298  1092\n",
       "147   3  24  51.453568 -0.972855  1090\n",
       "148   3  25  51.453568 -0.971412  1026"
      ]
     },
     "execution_count": 21,
     "metadata": {},
     "output_type": "execute_result"
    }
   ],
   "source": [
    "regions[0]['hotspots'].head()"
   ]
  },
  {
   "cell_type": "code",
   "execution_count": 22,
   "metadata": {},
   "outputs": [
    {
     "name": "stdout",
     "output_type": "stream",
     "text": [
      "Thames Valley Police-Abbey / Battle\n"
     ]
    }
   ],
   "source": [
    "print(regions[0]['name'])\n",
    "#hotspot_maps[regions[0]['name']]"
   ]
  },
  {
   "cell_type": "markdown",
   "metadata": {},
   "source": [
    "![alt text](AbbeyBattle_Hotspots.png \"Hotspot Data - Abbey Battle\")"
   ]
  },
  {
   "cell_type": "code",
   "execution_count": 23,
   "metadata": {},
   "outputs": [
    {
     "name": "stdout",
     "output_type": "stream",
     "text": [
      "Thames Valley Police-Oxford Central\n"
     ]
    }
   ],
   "source": [
    "print(regions[1]['name'])\n",
    "#hotspot_maps[regions[1]['name']]"
   ]
  },
  {
   "cell_type": "markdown",
   "metadata": {},
   "source": [
    "![alt text](Oxford_Hotspots.png \"Hotspot Data - Oxford Central\")"
   ]
  },
  {
   "cell_type": "code",
   "execution_count": 24,
   "metadata": {},
   "outputs": [],
   "source": [
    "pickle.dump( regions, open( \"regions2.pkl\", \"wb\" ) )"
   ]
  },
  {
   "cell_type": "markdown",
   "metadata": {},
   "source": [
    "Now we have a collection of crime hotspots for 2 regions we can get the venues near to those hotspots.\n",
    "\n"
   ]
  },
  {
   "cell_type": "markdown",
   "metadata": {},
   "source": [
    "### Foursquare Venue Data"
   ]
  },
  {
   "cell_type": "markdown",
   "metadata": {},
   "source": [
    "## Data 2 - Venue Data\n",
    "\n",
    "#### Foursquare venues\n",
    "\n",
    "A coordinate can be supplied to the Foursquare API to obtain the venues within a specified radius. Each venue belongs to particular category and also, to a specific level of category. Out of the information per venue we only require the venue category.\n",
    "\n",
    "The endpoint details are as follows. The *client id* and *client secret* are specific to the user and require a new user to sign up to Foursquare. *ll* is latitude longitude separated by a comma. Version  has been set here to \"20180604\" - see the Foursquare API site for more information. *MYRADIUS* will be set to the distance from the centroid of the cell from which to gather the venue information, typically set to a multiple of the cell size, e.g. cell size = 100 metres, MYRADIUS = 500 metres. *limit* can go up to 50 (per the latest version of the docs), we will use 50 in our study.\n",
    "\n",
    "https://api.foursquare.com/v2/venues/search?client_id=&lt;clientid>&client_secret=&lt;clientsecret>&ll=40.7149555,-74.0153365&v=20180604&radius=MYRADIUS&limit=30\n",
    "\n",
    "\n",
    "Foursquare API :\n",
    "https://developer.foursquare.com/docs"
   ]
  },
  {
   "cell_type": "markdown",
   "metadata": {},
   "source": [
    "#### Foursquare venue categories\n",
    "\n",
    "A list of categories is also supplied by the Foursquare API.\n",
    "\n",
    "These are at specified levels. For example, if a restaurant has a category of \"Japanese Restaurant\" and another one \"Asian Restaurant\" then they are both under the same general category of Food (Level 0) and Asian Restaurant (Level 1) but the venue information has given us a name that is deeper in the hierarchy (Japanese Restaurant is Level 2). We 'normalise' each venue category into levels. So for the two restaurants just mentioned we might look at Level 0, both Food. Level 1, both Asian Restaurant. Level 2, one is Japanese Restaurant and the other is Not-categorized (my terminology). Note that the level numbers I give here and use in the study are my own invention - Foursquare does not label their data in this way.\n",
    "\n",
    "<pre>\n",
    "Level 0 : Food\n",
    "├── Level 1 : Afghan Restaurant\n",
    "├── Level 1 : African Restaurant\n",
    "│   └── Level 2 : Ethiopian Restaurant\n",
    "├── ...\n",
    "├── Level 1 : Asian Restaurant\n",
    "│   ├── ...\n",
    "│   ├── Level 2 : Japanese Restaurant\n",
    "│   ├── ...\n",
    "│   ├── Level 2 : Thai Restaurant\n",
    "│       └── Level 3 : Som Tum Restaurant\n",
    "│   └── ...\n",
    "├── ...\n",
    "</pre>\n",
    "\n",
    "Page describing the Foursquare categories\n",
    "\n",
    "https://developer.foursquare.com/docs/resources/categories\n",
    "\n",
    "Page describing the API call\n",
    "\n",
    "https://developer.foursquare.com/docs/api/venues/categories\n",
    "\n",
    "API endpoint to receive JSON list of categories\n",
    "\n",
    "https://api.foursquare.com/v2/venues/categories\n"
   ]
  },
  {
   "cell_type": "code",
   "execution_count": 25,
   "metadata": {},
   "outputs": [],
   "source": [
    "# @hidden_cell\n",
    "CLIENT_ID = 'VTEV5MX35CKCG2R50PIE4NTJT5TMKM0WNHBXGUSBCKA4W12Y' # your Foursquare ID\n",
    "CLIENT_SECRET = 'BGIWCG2AV3CEBDTFOE355G4OGEEBYIDKBNMAYV0CHMVVDUN2' # your Foursquare Secret\n",
    "VERSION = '20190606' # accept API versions up to this date\n",
    "LIMIT = 100"
   ]
  },
  {
   "cell_type": "code",
   "execution_count": 26,
   "metadata": {},
   "outputs": [],
   "source": [
    "class FourSquare:\n",
    "    foursq = None\n",
    "    cats = None\n",
    "    \n",
    "    def Load_Categories(self, filename):\n",
    "        with open(filename) as json_file: #with open('foursq_categories.json') as json_file:\n",
    "            foursq = json.load(json_file)  #    foursq = json.load(json_file)\n",
    "            self.foursq = foursq['response']['categories']\n",
    "            del foursq\n",
    "\n",
    "    def AddCategory(self, df, category_name, n,level, parent_idx, icon_url):\n",
    "        df.loc[n] = [n, category_name, level, parent_idx, icon_url]\n",
    "\n",
    "    def Traverse(self, df, cats, n, L, p):\n",
    "        for cat in cats:\n",
    "            n += 1\n",
    "            icon_url = cat['icon']['prefix']+\"<SIZE>\"+cat['icon']['suffix']\n",
    "            self.AddCategory(df, cat['name'],n,L+1,p, icon_url)\n",
    "            #parent = n\n",
    "            n = self.Traverse(df, cat['categories'], n,L+1,n)\n",
    "        return n\n",
    "\n",
    "    def Build_Categories(self):\n",
    "        columns = ['Index','Category','Level','Parent_idx','Icon_URL']\n",
    "\n",
    "        df = pd.DataFrame(columns=columns)\n",
    "\n",
    "        df = df.astype(dtype= {\"Index\":\"int64\",\n",
    "                \"Category\":\"object\",\n",
    "                \"Level\":\"int64\",\n",
    "                \"Parent_idx\":\"int64\",\n",
    "                \"Icon_URL\":\"object\",\n",
    "                      })\n",
    "\n",
    "        self.Traverse(df,self.foursq,0,0,0)\n",
    "        \n",
    "        self.cats = df\n",
    "        \n",
    "        #return df\n",
    "    def GetCategory(self,cat_tree, category, level):\n",
    "        #print(\"----GetCategory----\")\n",
    "        row = cat_tree[cat_tree.Category == category]\n",
    "        this_level = row.iloc[0]['Level']\n",
    "        if this_level > level:\n",
    "            for i in range(this_level - level):\n",
    "                row = cat_tree.loc[cat_tree['Index'] == row.iloc[0]['Parent_idx'] ]\n",
    "    \n",
    "        if level > this_level:\n",
    "            pass\n",
    "        return row.iloc[0]['Category']"
   ]
  },
  {
   "cell_type": "code",
   "execution_count": 27,
   "metadata": {},
   "outputs": [],
   "source": [
    "def getNearbyVenues(names, latitudes, longitudes, radius=500, limit=100):\n",
    "    \n",
    "    venues_list=[]\n",
    "    for name, lat, lng in zip(names, latitudes, longitudes):\n",
    "        print(name, end=':')\n",
    "        print('\\r', end='')\n",
    "        \n",
    "        #print(f\"name={name},lat={lat},lon={lon}\")\n",
    "        # create the API request URL\n",
    "        url = 'https://api.foursquare.com/v2/venues/explore?&client_id={}&client_secret={}&v={}&ll={},{}&radius={}&limit={}'.format(\n",
    "            CLIENT_ID, \n",
    "            CLIENT_SECRET, \n",
    "            VERSION, \n",
    "            lat, \n",
    "            lng, \n",
    "            radius, \n",
    "            limit)\n",
    "            \n",
    "        # make the GET request\n",
    "        #print(f\"url={url}\")\n",
    "        results = requests.get(url).json()[\"response\"]['groups'][0]['items']\n",
    "        \n",
    "        # return only relevant information for each nearby venue\n",
    "        venues_list.append([(\n",
    "            name, \n",
    "            lat, \n",
    "            lng, \n",
    "            v['venue']['name'], \n",
    "            v['venue']['location']['lat'], \n",
    "            v['venue']['location']['lng'],  \n",
    "            v['venue']['categories'][0]['name']) for v in results])\n",
    "\n",
    "    nearby_venues = pd.DataFrame([item for venue_list in venues_list for item in venue_list])\n",
    "    nearby_venues.columns = ['Neighborhood', \n",
    "                  'Neighborhood Latitude', \n",
    "                  'Neighborhood Longitude', \n",
    "                  'Venue', \n",
    "                  'Venue Latitude', \n",
    "                  'Venue Longitude', \n",
    "                  'Venue Category']\n",
    "    \n",
    "    nearby_venues.drop_duplicates(subset=['Neighborhood', 'Venue', \n",
    "                  'Venue Latitude', \n",
    "                  'Venue Longitude', \n",
    "                  'Venue Category'], inplace=True)\n",
    "    print()\n",
    "    return(nearby_venues)"
   ]
  },
  {
   "cell_type": "code",
   "execution_count": 28,
   "metadata": {},
   "outputs": [
    {
     "name": "stdout",
     "output_type": "stream",
     "text": [
      "Thames Valley Police-Abbey / Battle\n",
      "31:\n",
      "\n",
      "Thames Valley Police-Oxford Central\n",
      "26:\n",
      "\n",
      "..finished\n",
      "Thames Valley Police:Abbey / Battle\n",
      "(1392, 7)\n",
      "     Neighborhood  Neighborhood Latitude  Neighborhood Longitude  \\\n",
      "71              3              51.453568               -0.972855   \n",
      "461            11              51.454467               -0.969969   \n",
      "982            22              51.456266               -0.971412   \n",
      "885            20              51.456266               -0.974298   \n",
      "\n",
      "                  Venue  Venue Latitude  Venue Longitude    Venue Category  \n",
      "71      BrewDog Reading       51.453519        -0.974274          Beer Bar  \n",
      "461   The Tasting House       51.455207        -0.973087          Wine Bar  \n",
      "982    Workhouse Coffee       51.455208        -0.970117       Coffee Shop  \n",
      "885  German Doner Kebab       51.456599        -0.975200  Doner Restaurant  \n",
      "\n",
      "There are 64 unique categories in this region.\n",
      "========================================\n",
      "Thames Valley Police:Oxford Central\n",
      "(1553, 7)\n",
      "     Neighborhood  Neighborhood Latitude  Neighborhood Longitude  \\\n",
      "726            12              51.752602               -1.260877   \n",
      "880            14              51.752602               -1.257973   \n",
      "928            15              51.752602               -1.256521   \n",
      "163             3              51.750804               -1.257973   \n",
      "\n",
      "                Venue  Venue Latitude  Venue Longitude  Venue Category  \n",
      "726         Moo-Moo's       51.752415        -1.256812       Juice Bar  \n",
      "880  The White Rabbit       51.754432        -1.260884     Pizza Place  \n",
      "928       Waterstones       51.754102        -1.258802       Bookstore  \n",
      "163   George & Danver       51.750517        -1.256960  Ice Cream Shop  \n",
      "\n",
      "There are 74 unique categories in this region.\n",
      "========================================\n"
     ]
    }
   ],
   "source": [
    "LIMIT=100\n",
    "RADIUS = 300\n",
    "\n",
    "for region in regions:\n",
    "    print(f\"{region['name']}\")\n",
    "    #print(region['hotspots'])\n",
    "    names = [ e[0] for e in enumerate(region['hotspots'].index)]\n",
    "    latitudes = [ e for e in region['hotspots'].lat ]\n",
    "    longitudes = [ e for e in region['hotspots'].lon ]\n",
    "    region['venues'] = getNearbyVenues(names = names,\n",
    "                                   latitudes = latitudes,\n",
    "                                   longitudes = longitudes,\n",
    "                                   radius = RADIUS,\n",
    "                                   limit = LIMIT\n",
    "                                  )\n",
    "    print()\n",
    "    \n",
    "print(\"..finished\")\n",
    "\n",
    "for region in regions:\n",
    "    print(f\"{region['force']}:{region['hood']}\")\n",
    "    venues = region['venues']\n",
    "    print(venues.shape)\n",
    "    print(venues.sample(4))\n",
    "    print()\n",
    "    print('There are {} unique categories in this region.'.format(len(venues['Venue Category'].unique())))\n",
    "    print(\"=\"*40)\n",
    "\n",
    "\n",
    "foursq_file = 'foursq.pkl'\n",
    "fq = FourSquare()\n",
    "if os.path.isfile(foursq_file):\n",
    "    with open(foursq_file,\"rb\") as f:\n",
    "        fq = pickle.load(f)\n",
    "else:\n",
    "    \n",
    "    fq.Load_Categories('foursq_categories.json')\n",
    "    fq.Build_Categories()\n",
    "    print(f\"There are {len(fq.cats)} categories\")\n",
    "    fq.cats.sample(5)\n",
    "    with open(foursq_file,\"wb\") as f:\n",
    "        pickle.dump(fq,f)\n"
   ]
  },
  {
   "cell_type": "code",
   "execution_count": 29,
   "metadata": {},
   "outputs": [
    {
     "name": "stdout",
     "output_type": "stream",
     "text": [
      "Thames Valley Police-Abbey / Battle\n",
      "level=1\n",
      "level=2\n",
      "level=3\n",
      "level=4\n",
      "Thames Valley Police-Oxford Central\n",
      "level=1\n",
      "level=2\n",
      "level=3\n",
      "level=4\n"
     ]
    }
   ],
   "source": [
    "#lets get Level Categories for the venues\n",
    "if True:#if not 'grouped' in regions[0].keys():\n",
    "    MAX_LEVEL = 4\n",
    "    for region in regions:\n",
    "        #region = regions[0]\n",
    "        venues = region['venues']\n",
    "        region['grouped'] = {}\n",
    "        \n",
    "        print(region['name'])\n",
    "        \n",
    "        for level in range(1,MAX_LEVEL+1):\n",
    "            print(f\"level={level}\")\n",
    "            level_cats = venues['Venue Category'].apply(lambda x : fq.GetCategory(fq.cats,x, level))\n",
    "            \n",
    "            region_onehot = pd.get_dummies(level_cats, prefix=\"\", prefix_sep=\"\")\n",
    "        \n",
    "            # add neighborhood column back to dataframe\n",
    "            region_onehot['Neighborhood'] = venues['Neighborhood']\n",
    "        \n",
    "            # move neighborhood column to the first column\n",
    "            fixed_columns = [region_onehot.columns[-1]] + list(region_onehot.columns[:-1])\n",
    "            region_onehot = region_onehot[fixed_columns]\n",
    "        \n",
    "            #region_onehot.sample(10)\n",
    "            #region_onehot.shape\n",
    "            region_grouped = region_onehot.groupby('Neighborhood').mean().reset_index()\n",
    "    \n",
    "            region['grouped'][level] = region_grouped"
   ]
  },
  {
   "cell_type": "markdown",
   "metadata": {},
   "source": [
    "## METHODOLOGY\n",
    "\n",
    "Methodology section which represents the main component of the report where you discuss and describe any exploratory data analysis that you did, any inferential statistical testing that you performed, if any, and what machine learnings were used and why."
   ]
  },
  {
   "cell_type": "markdown",
   "metadata": {},
   "source": [
    "* #### Given the boundary outlining an area we gridify that area into equal sized square cells\n",
    "\n",
    "This is described above."
   ]
  },
  {
   "cell_type": "markdown",
   "metadata": {},
   "source": [
    "* For each cell get the number of crimes within a specified search radius\n",
    "\n",
    "Here all of the crimes within the radius were included. Each crime belongs to a particular type of crime category. The full list is as follows:\n",
    "\n",
    "from: https://data.police.uk/api/crime-categories?date=2019-12\n",
    "\n",
    "url | name\n",
    "--- | ---\n",
    "anti-social-behaviour | Anti-social behaviour\n",
    "bicycle-theft | Bicycle theft\n",
    "burglary | Burglary\n",
    "criminal-damage-arson | Criminal damage and arson\n",
    "drugs | Drugs\n",
    "other-theft | Other theft\n",
    "possession-of-weapons | Possession of weapons\n",
    "public-order | Public order\n",
    "robbery | Robbery\n",
    "shoplifting | Shoplifting\n",
    "theft-from-the-person | Theft from the person\n",
    "vehicle-crime | Vehicle crime\n",
    "violent-crime | Violence and sexual offences\n",
    "other-crime | Other crime\n",
    "\n",
    "Some crime categories could be removed in the study to reflect the particular questions being asked. If one were to be analysing theft then one might only include 'Bicycle theft', 'Other theft',' Shoplifting', 'Theft from the person' and exclude the rest. This can be achieved by filtering the crime data on 'category'."
   ]
  },
  {
   "cell_type": "markdown",
   "metadata": {},
   "source": [
    "* #### For each cell find all venues from FourSquare within a specific search radius.\n",
    "\n",
    "Example\n",
    "\n",
    "<table border=\"1\" class=\"dataframe\"> <thead><tr style=\"text-align: right;\">  <th></th>  <th>Cell</th>  <th>Cell Latitude</th>  <th>Cell Longitude</th>  <th>Venue</th>  <th>Venue Latitude</th>  <th>Venue Longitude</th>  <th>Venue Category</th></tr> </thead> <tbody><tr>  <th>124</th>  <td>2</td>  <td>51.454018</td>  <td>-0.972134</td>  <td>Market Place</td>  <td>51.455566</td>  <td>-0.969469</td>  <td>Plaza</td></tr><tr>  <th>129</th>  <td>2</td>  <td>51.454018</td>  <td>-0.972134</td>  <td>Greggs</td>  <td>51.455459</td>  <td>-0.969436</td>  <td>Bakery</td></tr><tr>  <th>80</th>  <td>2</td>  <td>51.454018</td>  <td>-0.972134</td>  <td>Côte Brasserie</td>  <td>51.453729</td>  <td>-0.969215</td>  <td>French Restaurant</td></tr><tr>  <th>126</th>  <td>2</td>  <td>51.454018</td>  <td>-0.972134</td>  <td>Royal Tandoori</td>  <td>51.454898</td>  <td>-0.968959</td>  <td>Indian Restaurant</td></tr><tr>  <th>103</th>  <td>2</td>  <td>51.454018</td>  <td>-0.972134</td>  <td>The Botanist</td>  <td>51.455107</td>  <td>-0.969595</td><td>English Restaurant</td></tr> </tbody></table>\n"
   ]
  },
  {
   "cell_type": "markdown",
   "metadata": {},
   "source": [
    "* #### Transform each cell's venues into levels, i.e. a level 1 list, then a level 2 list and so on.\n",
    "\n",
    "For instance, 'Plaza' in the list of Four Square categories is under 'Outdoors & Recreation'.\n",
    "\n",
    "```\n",
    "Outdoors & Recreation\n",
    "|-- Plaza\n",
    "```\n",
    "    \n",
    " Outdoors.. is assigned a level 1 designation as it is the topmost layer. Plaza is then assigned level 2.\n",
    "\n",
    "```\n",
    "1 Outdoors & Recreation\n",
    "|-- 2 Plaza\n",
    "1 Food\n",
    "|-- 2 Bakery\n",
    "|-- 2 French Restaurant\n",
    "|   |-- 3 Burgundian Restaurant\n",
    "|-- 2 Indian Restaurant\n",
    "|   |-- 3 Andhra Restaurant\n",
    "|   |-- 3 Awadhi Restaurant\n",
    "|-- 2 English Restaurant\n",
    "```"
   ]
  },
  {
   "cell_type": "markdown",
   "metadata": {},
   "source": [
    "* #### For each level One-hot encode those venue lists\n",
    "\n",
    "The one-hot encoding calculates the frequencies for those venue categories.\n",
    "\n",
    "Given the following venues and level 1 we would have the following one-hot table (these are truncated for display purposes).\n",
    "\n",
    "__Venues for cell__\n",
    "\n",
    "Plaza, Bakery, Bakery, French Restaurant, Burgundian Restaurant, English Restaurant\n",
    "\n",
    "__One-Hot Table Level 1__\n",
    "\n",
    "Arts & Entertainment | College & University | Events | Food | Nightlife Spot | Outdoors & Recreation | Professional & Other Places | Residence | Shop & Service | Travel & Transport\n",
    "--- | --- | --- | --- | --- | --- | --- | --- | --- | --- | \n",
    "0.0 | 0.0 | 0.0 | 0.8333 | 0.0 | 0.1666 | 0.0 | 0.0 | 0.0 | 0.0 |\n",
    "\n",
    "__One-Hot Table Level 2__\n",
    "\n",
    "Amphitheater | Aquarium | ... | Plaza | Bakery | French Restaurant | English Restaurant\n",
    "--- | --- | --- | --- | --- | --- | ---\n",
    "0.0 | 0.0 | ... | 0.1666 | 0.3333 | 0.3333 | 0.1666"
   ]
  },
  {
   "cell_type": "markdown",
   "metadata": {},
   "source": [
    "* #### Use k-means to categorise the venue lists with increasing number of clusters.\n",
    "\n",
    "```\n",
    " for level in range(1,MAX_LEVEL+1):\n",
    "    region_grouped_clustering = region['grouped'][level]\n",
    "                                .drop('Neighborhood', 1)\n",
    "           \n",
    "    Sum_of_squared_distances = []    \n",
    "        K = range(1,15)\n",
    "        for kclusters in K:\n",
    "            kmeans = KMeans(n_clusters=kclusters, random_state=0)\n",
    "                      .fit(region_grouped_clustering)\n",
    "            Sum_of_squared_distances.append(kmeans.inertia_)\n",
    "```"
   ]
  },
  {
   "cell_type": "markdown",
   "metadata": {},
   "source": [
    "* #### Find the optimal number of clusters for K means by using the elbow method and 2nd differences"
   ]
  },
  {
   "cell_type": "code",
   "execution_count": 30,
   "metadata": {},
   "outputs": [
    {
     "data": {
      "image/png": "[encoded data removed]",
      "text/plain": [
       "<Figure size 432x288 with 1 Axes>"
      ]
     },
     "metadata": {},
     "output_type": "display_data"
    }
   ],
   "source": [
    "# Optimal K example\n",
    "\n",
    "K = np.array([1,2,3,4,5,6,7,8,9,10])\n",
    "inertia = np.array([0.38, 0.15, 0.10, 0.07, 0.06, 0.05, 0.04, 0.03, 0.02, 0.01])\n",
    "\n",
    "plt.plot( K, inertia, 'bx-', label='inertia')\n",
    "plt.plot( K[1:], -np.diff(inertia), label='1st difference')\n",
    "plt.plot( K[1:-1], -np.diff(-np.diff(inertia)), label='2nd difference')\n",
    "_ = plt.legend()"
   ]
  },
  {
   "cell_type": "markdown",
   "metadata": {},
   "source": [
    "We take the first difference (the delta) and then take the difference of the deltas (the gamma or convexity).\n",
    "\n",
    "In the above the greatest 2nd difference is for $K = 2$. This becomes our optimal number of clusters, 'optimal K'.\n",
    "\n",
    "Then apply that particular K-means to obtain the cluster corresponding to the cells."
   ]
  },
  {
   "cell_type": "code",
   "execution_count": 31,
   "metadata": {},
   "outputs": [
    {
     "name": "stdout",
     "output_type": "stream",
     "text": [
      "level 1 optimal_k=2\n"
     ]
    },
    {
     "data": {
      "image/png": "[encoded data removed]",
      "text/plain": [
       "<Figure size 432x288 with 1 Axes>"
      ]
     },
     "metadata": {
      "needs_background": "light"
     },
     "output_type": "display_data"
    },
    {
     "name": "stdout",
     "output_type": "stream",
     "text": [
      "level 2 optimal_k=3\n"
     ]
    },
    {
     "data": {
      "image/png": "[encoded data removed]",
      "text/plain": [
       "<Figure size 432x288 with 1 Axes>"
      ]
     },
     "metadata": {
      "needs_background": "light"
     },
     "output_type": "display_data"
    },
    {
     "name": "stdout",
     "output_type": "stream",
     "text": [
      "level 3 optimal_k=2\n"
     ]
    },
    {
     "data": {
      "image/png": "[encoded data removed]",
      "text/plain": [
       "<Figure size 432x288 with 1 Axes>"
      ]
     },
     "metadata": {
      "needs_background": "light"
     },
     "output_type": "display_data"
    },
    {
     "name": "stdout",
     "output_type": "stream",
     "text": [
      "level 4 optimal_k=2\n"
     ]
    },
    {
     "data": {
      "image/png": "[encoded data removed]",
      "text/plain": [
       "<Figure size 432x288 with 1 Axes>"
      ]
     },
     "metadata": {
      "needs_background": "light"
     },
     "output_type": "display_data"
    },
    {
     "name": "stdout",
     "output_type": "stream",
     "text": [
      "level 1 optimal_k=3\n"
     ]
    },
    {
     "data": {
      "image/png": "[encoded data removed]",
      "text/plain": [
       "<Figure size 432x288 with 1 Axes>"
      ]
     },
     "metadata": {
      "needs_background": "light"
     },
     "output_type": "display_data"
    },
    {
     "name": "stdout",
     "output_type": "stream",
     "text": [
      "level 2 optimal_k=3\n"
     ]
    },
    {
     "data": {
      "image/png": "[encoded data removed]",
      "text/plain": [
       "<Figure size 432x288 with 1 Axes>"
      ]
     },
     "metadata": {
      "needs_background": "light"
     },
     "output_type": "display_data"
    },
    {
     "name": "stdout",
     "output_type": "stream",
     "text": [
      "level 3 optimal_k=2\n"
     ]
    },
    {
     "data": {
      "image/png": "[encoded data removed]",
      "text/plain": [
       "<Figure size 432x288 with 1 Axes>"
      ]
     },
     "metadata": {
      "needs_background": "light"
     },
     "output_type": "display_data"
    },
    {
     "name": "stdout",
     "output_type": "stream",
     "text": [
      "level 4 optimal_k=2\n"
     ]
    },
    {
     "data": {
      "image/png": "[encoded data removed]",
      "text/plain": [
       "<Figure size 432x288 with 1 Axes>"
      ]
     },
     "metadata": {
      "needs_background": "light"
     },
     "output_type": "display_data"
    }
   ],
   "source": [
    "def return_most_common_venues(row, num_top_venues):\n",
    "    row_categories = row.iloc[1:]\n",
    "    row_categories_sorted = row_categories.sort_values(ascending=False)\n",
    "    \n",
    "    return row_categories_sorted.index.values[0:num_top_venues]\n",
    "\n",
    "\n",
    "def kmeans_optimal_elbow(criterion):\n",
    "    n = len(criterion)\n",
    "\n",
    "    delta1 = -np.diff(criterion)\n",
    "    delta2 = -np.diff(delta1)\n",
    "\n",
    "    delta1 = np.concatenate(([0,0], delta1), axis=0)[-n:]\n",
    "    delta2 = np.concatenate(([0,0], delta2), axis=0)[-n:]\n",
    "\n",
    "    '''\n",
    "    strength = delta2 - delta1\n",
    "    strength = strength * (strength >0)*1.0\n",
    "    k = np.array([k+1 for k in range(n)])\n",
    "    rel_strength = strength / k\n",
    "    max_k = rel_strength.argmax()-1\n",
    "    '''\n",
    "    k = np.array([k+1 for k in range(n)])\n",
    "    max_k = delta2.argmax()-1\n",
    "    return k[max_k]\n",
    "\n",
    "# ## 4. Cluster Neighbourhoods\n",
    "\n",
    "num_top_venues = 5\n",
    "MAX_LEVEL = 4\n",
    "for region in regions:\n",
    "    region_name = f\"{region['force']}:{region['hood']}\"\n",
    "    region_data = region['hotspots'][['lat','lon']].reset_index()\n",
    "    region_data['Neighborhood'] = region_data.index\n",
    "    \n",
    "    region['clusters'] = {}\n",
    "    region['kmeans'] = {}\n",
    "    \n",
    "    for level in range(1,MAX_LEVEL+1):\n",
    "        region_grouped_clustering = region['grouped'][level].drop('Neighborhood', 1)\n",
    "           \n",
    "        Sum_of_squared_distances = []    \n",
    "        # the number of samples should be greater than or equal to the number of clusters\n",
    "        K = range(1,min(15, len(region_grouped_clustering)))\n",
    "        for kclusters in K:\n",
    "            kmeans = KMeans(n_clusters=kclusters, random_state=0).fit(region_grouped_clustering)\n",
    "            Sum_of_squared_distances.append(kmeans.inertia_)\n",
    "            \n",
    "        criterion = Sum_of_squared_distances\n",
    "        optimal_k = kmeans_optimal_elbow(criterion)\n",
    "        print(f\"level {level} optimal_k={optimal_k}\")\n",
    "        \n",
    "        get_ipython().run_line_magic('matplotlib', 'inline')\n",
    "            \n",
    "        plt.plot(K, criterion, 'bx-')\n",
    "        plt.xlabel('k')\n",
    "        plt.ylabel('Sum_of_squared_distances')\n",
    "        plt.title(f\"Elbow Method For Optimal k:{region_name}, Level={level}\")\n",
    "        plt.axvline(x=optimal_k, ymin=0.0, ymax=1,linestyle='--')\n",
    "        plt.show()\n",
    "        \n",
    "        # get the cluster info\n",
    "        kmeans = KMeans(n_clusters=optimal_k, random_state=0).fit(region_grouped_clustering)\n",
    "        region['kmeans'][level] = kmeans\n",
    "        indicators = ['st', 'nd', 'rd']\n",
    "    \n",
    "        # create columns according to number of top venues\n",
    "        columns = ['Neighborhood']\n",
    "        for ind in np.arange(num_top_venues):\n",
    "            try:\n",
    "                columns.append('{}{} Most Common Venue'.format(ind+1, indicators[ind]))\n",
    "            except:\n",
    "                columns.append('{}th Most Common Venue'.format(ind+1))\n",
    "    \n",
    "        # create a new dataframe\n",
    "        neighborhoods_venues_sorted = pd.DataFrame(columns=columns)\n",
    "        neighborhoods_venues_sorted['Neighborhood'] = region['grouped'][level]['Neighborhood']\n",
    "    \n",
    "        for ind in np.arange(region['grouped'][level].shape[0]):\n",
    "            try:\n",
    "                res = return_most_common_venues(region['grouped'][level].iloc[ind, :], num_top_venues)\n",
    "                neighborhoods_venues_sorted.iloc[ind, 1:] = res\n",
    "            except:\n",
    "                neighborhoods_venues_sorted.iloc[ind, 2:] = res\n",
    "\n",
    "            if 'Cluster Labels' in neighborhoods_venues_sorted.columns:\n",
    "                neighborhoods_venues_sorted.drop(['Cluster Labels'],inplace=True,axis=1)\n",
    "            neighborhoods_venues_sorted.insert(0, 'Cluster Labels', kmeans.labels_)\n",
    "        \n",
    "        region_merged = region_data\n",
    "        \n",
    "        # merge region_grouped with region_data to add latitude/longitude for each neighborhood\n",
    "        region_merged = region_merged.join(neighborhoods_venues_sorted.set_index('Neighborhood'), on='Neighborhood')\n",
    "        region['clusters'][level] = region_merged\n"
   ]
  },
  {
   "cell_type": "code",
   "execution_count": 32,
   "metadata": {},
   "outputs": [],
   "source": [
    "pickle.dump(regions, open(\"regions3.pkl\",\"wb\"))"
   ]
  },
  {
   "cell_type": "markdown",
   "metadata": {},
   "source": [
    "## RESULTS"
   ]
  },
  {
   "cell_type": "markdown",
   "metadata": {},
   "source": [
    "### FourSquare Venues & K-Means"
   ]
  },
  {
   "cell_type": "code",
   "execution_count": 33,
   "metadata": {},
   "outputs": [],
   "source": [
    "from IPython.display import display, Markdown, Latex\n",
    "\n",
    "def ShowResults(region_idx, level):\n",
    "    txt = regions[region_idx]['clusters'][level] \\\n",
    "        .drop(['Neighborhood','lat','lon', 'index'],axis=1)\n",
    "    txt = txt \\\n",
    "        .drop_duplicates() \\\n",
    "        .astype({'Cluster Labels':'int32'}) \\\n",
    "        .sort_values(by=['Cluster Labels','1st Most Common Venue','2nd Most Common Venue','3rd Most Common Venue','4th Most Common Venue','5th Most Common Venue']) \\\n",
    "        .to_html(index=False) \\\n",
    "        .replace(\"\\n\",\"\")\n",
    "    display(Markdown(f\"#### **Region {region_idx}, Level {level}**\"))\n",
    "    display(Markdown(txt))"
   ]
  },
  {
   "cell_type": "code",
   "execution_count": 34,
   "metadata": {},
   "outputs": [
    {
     "data": {
      "text/markdown": [
       "#### **Region 0, Level 1**"
      ],
      "text/plain": [
       "<IPython.core.display.Markdown object>"
      ]
     },
     "metadata": {},
     "output_type": "display_data"
    },
    {
     "data": {
      "text/markdown": [
       "<table border=\"1\" class=\"dataframe\">  <thead>    <tr style=\"text-align: right;\">      <th>Cluster Labels</th>      <th>1st Most Common Venue</th>      <th>2nd Most Common Venue</th>      <th>3rd Most Common Venue</th>      <th>4th Most Common Venue</th>      <th>5th Most Common Venue</th>    </tr>  </thead>  <tbody>    <tr>      <td>0</td>      <td>Food</td>      <td>Nightlife Spot</td>      <td>Shop &amp; Service</td>      <td>Travel &amp; Transport</td>      <td>Outdoors &amp; Recreation</td>    </tr>    <tr>      <td>0</td>      <td>Food</td>      <td>Nightlife Spot</td>      <td>Travel &amp; Transport</td>      <td>Shop &amp; Service</td>      <td>Outdoors &amp; Recreation</td>    </tr>    <tr>      <td>0</td>      <td>Food</td>      <td>Shop &amp; Service</td>      <td>Nightlife Spot</td>      <td>Outdoors &amp; Recreation</td>      <td>Travel &amp; Transport</td>    </tr>    <tr>      <td>0</td>      <td>Food</td>      <td>Shop &amp; Service</td>      <td>Nightlife Spot</td>      <td>Travel &amp; Transport</td>      <td>Outdoors &amp; Recreation</td>    </tr>    <tr>      <td>0</td>      <td>Food</td>      <td>Shop &amp; Service</td>      <td>Travel &amp; Transport</td>      <td>Nightlife Spot</td>      <td>Outdoors &amp; Recreation</td>    </tr>    <tr>      <td>1</td>      <td>Food</td>      <td>Shop &amp; Service</td>      <td>Nightlife Spot</td>      <td>Travel &amp; Transport</td>      <td>Outdoors &amp; Recreation</td>    </tr>    <tr>      <td>1</td>      <td>Food</td>      <td>Shop &amp; Service</td>      <td>Travel &amp; Transport</td>      <td>Nightlife Spot</td>      <td>Outdoors &amp; Recreation</td>    </tr>    <tr>      <td>1</td>      <td>Food</td>      <td>Travel &amp; Transport</td>      <td>Nightlife Spot</td>      <td>Shop &amp; Service</td>      <td>Outdoors &amp; Recreation</td>    </tr>    <tr>      <td>1</td>      <td>Food</td>      <td>Travel &amp; Transport</td>      <td>Shop &amp; Service</td>      <td>Nightlife Spot</td>      <td>Outdoors &amp; Recreation</td>    </tr>  </tbody></table>"
      ],
      "text/plain": [
       "<IPython.core.display.Markdown object>"
      ]
     },
     "metadata": {},
     "output_type": "display_data"
    },
    {
     "data": {
      "text/markdown": [
       "#### **Region 1, Level 1**"
      ],
      "text/plain": [
       "<IPython.core.display.Markdown object>"
      ]
     },
     "metadata": {},
     "output_type": "display_data"
    },
    {
     "data": {
      "text/markdown": [
       "<table border=\"1\" class=\"dataframe\">  <thead>    <tr style=\"text-align: right;\">      <th>Cluster Labels</th>      <th>1st Most Common Venue</th>      <th>2nd Most Common Venue</th>      <th>3rd Most Common Venue</th>      <th>4th Most Common Venue</th>      <th>5th Most Common Venue</th>    </tr>  </thead>  <tbody>    <tr>      <td>0</td>      <td>Food</td>      <td>Nightlife Spot</td>      <td>Shop &amp; Service</td>      <td>Outdoors &amp; Recreation</td>      <td>Arts &amp; Entertainment</td>    </tr>    <tr>      <td>0</td>      <td>Food</td>      <td>Shop &amp; Service</td>      <td>Nightlife Spot</td>      <td>Arts &amp; Entertainment</td>      <td>Outdoors &amp; Recreation</td>    </tr>    <tr>      <td>0</td>      <td>Food</td>      <td>Shop &amp; Service</td>      <td>Nightlife Spot</td>      <td>Arts &amp; Entertainment</td>      <td>Travel &amp; Transport</td>    </tr>    <tr>      <td>0</td>      <td>Food</td>      <td>Shop &amp; Service</td>      <td>Nightlife Spot</td>      <td>Outdoors &amp; Recreation</td>      <td>Arts &amp; Entertainment</td>    </tr>    <tr>      <td>0</td>      <td>Food</td>      <td>Shop &amp; Service</td>      <td>Nightlife Spot</td>      <td>Travel &amp; Transport</td>      <td>Arts &amp; Entertainment</td>    </tr>    <tr>      <td>0</td>      <td>Food</td>      <td>Shop &amp; Service</td>      <td>Nightlife Spot</td>      <td>Travel &amp; Transport</td>      <td>Outdoors &amp; Recreation</td>    </tr>    <tr>      <td>1</td>      <td>Food</td>      <td>Nightlife Spot</td>      <td>Shop &amp; Service</td>      <td>Travel &amp; Transport</td>      <td>Arts &amp; Entertainment</td>    </tr>    <tr>      <td>1</td>      <td>Food</td>      <td>Nightlife Spot</td>      <td>Shop &amp; Service</td>      <td>Travel &amp; Transport</td>      <td>Outdoors &amp; Recreation</td>    </tr>    <tr>      <td>1</td>      <td>Food</td>      <td>Nightlife Spot</td>      <td>Travel &amp; Transport</td>      <td>Shop &amp; Service</td>      <td>Outdoors &amp; Recreation</td>    </tr>    <tr>      <td>2</td>      <td>Food</td>      <td>Shop &amp; Service</td>      <td>Nightlife Spot</td>      <td>Arts &amp; Entertainment</td>      <td>Outdoors &amp; Recreation</td>    </tr>    <tr>      <td>2</td>      <td>Food</td>      <td>Shop &amp; Service</td>      <td>Nightlife Spot</td>      <td>Arts &amp; Entertainment</td>      <td>Travel &amp; Transport</td>    </tr>    <tr>      <td>2</td>      <td>Food</td>      <td>Shop &amp; Service</td>      <td>Nightlife Spot</td>      <td>Outdoors &amp; Recreation</td>      <td>Arts &amp; Entertainment</td>    </tr>    <tr>      <td>2</td>      <td>Food</td>      <td>Shop &amp; Service</td>      <td>Nightlife Spot</td>      <td>Travel &amp; Transport</td>      <td>Arts &amp; Entertainment</td>    </tr>    <tr>      <td>2</td>      <td>Food</td>      <td>Shop &amp; Service</td>      <td>Nightlife Spot</td>      <td>Travel &amp; Transport</td>      <td>Professional &amp; Other Places</td>    </tr>    <tr>      <td>2</td>      <td>Food</td>      <td>Shop &amp; Service</td>      <td>Travel &amp; Transport</td>      <td>Arts &amp; Entertainment</td>      <td>Professional &amp; Other Places</td>    </tr>    <tr>      <td>2</td>      <td>Food</td>      <td>Shop &amp; Service</td>      <td>Travel &amp; Transport</td>      <td>Nightlife Spot</td>      <td>Arts &amp; Entertainment</td>    </tr>  </tbody></table>"
      ],
      "text/plain": [
       "<IPython.core.display.Markdown object>"
      ]
     },
     "metadata": {},
     "output_type": "display_data"
    }
   ],
   "source": [
    "_ = ShowResults(0,1)\n",
    "_ = ShowResults(1,1)"
   ]
  },
  {
   "cell_type": "markdown",
   "metadata": {},
   "source": [
    "This is an interesting set of results. For both regions the primary influence are Food venues with Shops Travel and Nightlife venues also having a large influence.\n",
    "\n",
    "By going to level 2 venue categories we may gain an insight into the kinds of Food, Shops etc venues."
   ]
  },
  {
   "cell_type": "code",
   "execution_count": 35,
   "metadata": {},
   "outputs": [
    {
     "data": {
      "text/markdown": [
       "#### **Region 0, Level 2**"
      ],
      "text/plain": [
       "<IPython.core.display.Markdown object>"
      ]
     },
     "metadata": {},
     "output_type": "display_data"
    },
    {
     "data": {
      "text/markdown": [
       "<table border=\"1\" class=\"dataframe\">  <thead>    <tr style=\"text-align: right;\">      <th>Cluster Labels</th>      <th>1st Most Common Venue</th>      <th>2nd Most Common Venue</th>      <th>3rd Most Common Venue</th>      <th>4th Most Common Venue</th>      <th>5th Most Common Venue</th>    </tr>  </thead>  <tbody>    <tr>      <td>0</td>      <td>Asian Restaurant</td>      <td>Bar</td>      <td>Coffee Shop</td>      <td>Italian Restaurant</td>      <td>Dessert Shop</td>    </tr>    <tr>      <td>0</td>      <td>Bar</td>      <td>Asian Restaurant</td>      <td>Coffee Shop</td>      <td>Italian Restaurant</td>      <td>Dessert Shop</td>    </tr>    <tr>      <td>0</td>      <td>Bar</td>      <td>Coffee Shop</td>      <td>Asian Restaurant</td>      <td>Burger Joint</td>      <td>Italian Restaurant</td>    </tr>    <tr>      <td>0</td>      <td>Bar</td>      <td>Coffee Shop</td>      <td>Asian Restaurant</td>      <td>Italian Restaurant</td>      <td>Dessert Shop</td>    </tr>    <tr>      <td>0</td>      <td>Bar</td>      <td>Dessert Shop</td>      <td>Coffee Shop</td>      <td>Asian Restaurant</td>      <td>Italian Restaurant</td>    </tr>    <tr>      <td>1</td>      <td>Bar</td>      <td>Asian Restaurant</td>      <td>Coffee Shop</td>      <td>Sandwich Place</td>      <td>Train Station</td>    </tr>    <tr>      <td>1</td>      <td>Bar</td>      <td>Coffee Shop</td>      <td>Train Station</td>      <td>Asian Restaurant</td>      <td>Sandwich Place</td>    </tr>    <tr>      <td>1</td>      <td>Bar</td>      <td>Train Station</td>      <td>Asian Restaurant</td>      <td>Sandwich Place</td>      <td>Coffee Shop</td>    </tr>    <tr>      <td>1</td>      <td>Bar</td>      <td>Train Station</td>      <td>Coffee Shop</td>      <td>Food &amp; Drink Shop</td>      <td>Sandwich Place</td>    </tr>    <tr>      <td>1</td>      <td>Coffee Shop</td>      <td>Bar</td>      <td>Train Station</td>      <td>Asian Restaurant</td>      <td>Hotel</td>    </tr>    <tr>      <td>1</td>      <td>Coffee Shop</td>      <td>Train Station</td>      <td>Bar</td>      <td>Asian Restaurant</td>      <td>Sandwich Place</td>    </tr>    <tr>      <td>1</td>      <td>Train Station</td>      <td>Bar</td>      <td>Asian Restaurant</td>      <td>Sandwich Place</td>      <td>Coffee Shop</td>    </tr>    <tr>      <td>1</td>      <td>Train Station</td>      <td>Bar</td>      <td>Coffee Shop</td>      <td>Asian Restaurant</td>      <td>Food &amp; Drink Shop</td>    </tr>    <tr>      <td>2</td>      <td>Asian Restaurant</td>      <td>Bar</td>      <td>Clothing Store</td>      <td>Coffee Shop</td>      <td>Dessert Shop</td>    </tr>    <tr>      <td>2</td>      <td>Asian Restaurant</td>      <td>Clothing Store</td>      <td>Bar</td>      <td>Sandwich Place</td>      <td>Italian Restaurant</td>    </tr>    <tr>      <td>2</td>      <td>Bar</td>      <td>Asian Restaurant</td>      <td>Clothing Store</td>      <td>Coffee Shop</td>      <td>Sandwich Place</td>    </tr>    <tr>      <td>2</td>      <td>Bar</td>      <td>Asian Restaurant</td>      <td>Clothing Store</td>      <td>Sandwich Place</td>      <td>Food &amp; Drink Shop</td>    </tr>    <tr>      <td>2</td>      <td>Bar</td>      <td>Asian Restaurant</td>      <td>Clothing Store</td>      <td>Sandwich Place</td>      <td>Italian Restaurant</td>    </tr>    <tr>      <td>2</td>      <td>Bar</td>      <td>Clothing Store</td>      <td>Asian Restaurant</td>      <td>Coffee Shop</td>      <td>Italian Restaurant</td>    </tr>    <tr>      <td>2</td>      <td>Bar</td>      <td>Coffee Shop</td>      <td>Asian Restaurant</td>      <td>Clothing Store</td>      <td>Burger Joint</td>    </tr>    <tr>      <td>2</td>      <td>Bar</td>      <td>Coffee Shop</td>      <td>Asian Restaurant</td>      <td>Clothing Store</td>      <td>Dessert Shop</td>    </tr>    <tr>      <td>2</td>      <td>Bar</td>      <td>Coffee Shop</td>      <td>Asian Restaurant</td>      <td>Clothing Store</td>      <td>Sandwich Place</td>    </tr>    <tr>      <td>2</td>      <td>Coffee Shop</td>      <td>Bar</td>      <td>Asian Restaurant</td>      <td>Clothing Store</td>      <td>Burger Joint</td>    </tr>    <tr>      <td>2</td>      <td>Coffee Shop</td>      <td>Bar</td>      <td>Clothing Store</td>      <td>Asian Restaurant</td>      <td>Burger Joint</td>    </tr>    <tr>      <td>2</td>      <td>Coffee Shop</td>      <td>Bar</td>      <td>Clothing Store</td>      <td>Asian Restaurant</td>      <td>Department Store</td>    </tr>    <tr>      <td>2</td>      <td>Coffee Shop</td>      <td>Bar</td>      <td>Clothing Store</td>      <td>Asian Restaurant</td>      <td>Sandwich Place</td>    </tr>    <tr>      <td>2</td>      <td>Coffee Shop</td>      <td>Bar</td>      <td>Clothing Store</td>      <td>Italian Restaurant</td>      <td>Asian Restaurant</td>    </tr>  </tbody></table>"
      ],
      "text/plain": [
       "<IPython.core.display.Markdown object>"
      ]
     },
     "metadata": {},
     "output_type": "display_data"
    },
    {
     "data": {
      "text/markdown": [
       "#### **Region 1, Level 2**"
      ],
      "text/plain": [
       "<IPython.core.display.Markdown object>"
      ]
     },
     "metadata": {},
     "output_type": "display_data"
    },
    {
     "data": {
      "text/markdown": [
       "<table border=\"1\" class=\"dataframe\">  <thead>    <tr style=\"text-align: right;\">      <th>Cluster Labels</th>      <th>1st Most Common Venue</th>      <th>2nd Most Common Venue</th>      <th>3rd Most Common Venue</th>      <th>4th Most Common Venue</th>      <th>5th Most Common Venue</th>    </tr>  </thead>  <tbody>    <tr>      <td>0</td>      <td>Asian Restaurant</td>      <td>Bar</td>      <td>Coffee Shop</td>      <td>Café</td>      <td>Sandwich Place</td>    </tr>    <tr>      <td>0</td>      <td>Bar</td>      <td>Asian Restaurant</td>      <td>Bakery</td>      <td>American Restaurant</td>      <td>Coffee Shop</td>    </tr>    <tr>      <td>0</td>      <td>Bar</td>      <td>Asian Restaurant</td>      <td>Café</td>      <td>Bakery</td>      <td>Clothing Store</td>    </tr>    <tr>      <td>0</td>      <td>Bar</td>      <td>Asian Restaurant</td>      <td>Coffee Shop</td>      <td>Café</td>      <td>Hotel</td>    </tr>    <tr>      <td>0</td>      <td>Bar</td>      <td>Asian Restaurant</td>      <td>Coffee Shop</td>      <td>Nightclub</td>      <td>Café</td>    </tr>    <tr>      <td>0</td>      <td>Bar</td>      <td>Asian Restaurant</td>      <td>Dessert Shop</td>      <td>Café</td>      <td>Bakery</td>    </tr>    <tr>      <td>0</td>      <td>Bar</td>      <td>Asian Restaurant</td>      <td>Nightclub</td>      <td>Coffee Shop</td>      <td>Burger Joint</td>    </tr>    <tr>      <td>0</td>      <td>Bar</td>      <td>Asian Restaurant</td>      <td>Nightclub</td>      <td>Hotel</td>      <td>Indian Restaurant</td>    </tr>    <tr>      <td>1</td>      <td>Bar</td>      <td>Burger Joint</td>      <td>Coffee Shop</td>      <td>Restaurant</td>      <td>Hotel</td>    </tr>    <tr>      <td>1</td>      <td>Burger Joint</td>      <td>Asian Restaurant</td>      <td>Sandwich Place</td>      <td>Restaurant</td>      <td>Coffee Shop</td>    </tr>    <tr>      <td>1</td>      <td>Coffee Shop</td>      <td>Hotel</td>      <td>Sandwich Place</td>      <td>Burger Joint</td>      <td>Restaurant</td>    </tr>    <tr>      <td>1</td>      <td>Hotel</td>      <td>Asian Restaurant</td>      <td>Sandwich Place</td>      <td>Café</td>      <td>Restaurant</td>    </tr>    <tr>      <td>2</td>      <td>Bar</td>      <td>Asian Restaurant</td>      <td>Coffee Shop</td>      <td>Café</td>      <td>Dessert Shop</td>    </tr>    <tr>      <td>2</td>      <td>Bar</td>      <td>Asian Restaurant</td>      <td>Coffee Shop</td>      <td>Dessert Shop</td>      <td>Café</td>    </tr>    <tr>      <td>2</td>      <td>Bar</td>      <td>Coffee Shop</td>      <td>Asian Restaurant</td>      <td>Café</td>      <td>Bookstore</td>    </tr>    <tr>      <td>2</td>      <td>Bar</td>      <td>Coffee Shop</td>      <td>Asian Restaurant</td>      <td>Café</td>      <td>Dessert Shop</td>    </tr>    <tr>      <td>2</td>      <td>Bar</td>      <td>Coffee Shop</td>      <td>Café</td>      <td>Asian Restaurant</td>      <td>Food &amp; Drink Shop</td>    </tr>    <tr>      <td>2</td>      <td>Bar</td>      <td>Coffee Shop</td>      <td>Café</td>      <td>Asian Restaurant</td>      <td>Sandwich Place</td>    </tr>    <tr>      <td>2</td>      <td>Bar</td>      <td>Coffee Shop</td>      <td>Dessert Shop</td>      <td>Food &amp; Drink Shop</td>      <td>Café</td>    </tr>    <tr>      <td>2</td>      <td>Coffee Shop</td>      <td>Asian Restaurant</td>      <td>Bar</td>      <td>Café</td>      <td>Dessert Shop</td>    </tr>    <tr>      <td>2</td>      <td>Coffee Shop</td>      <td>Asian Restaurant</td>      <td>Café</td>      <td>Bar</td>      <td>Sandwich Place</td>    </tr>    <tr>      <td>2</td>      <td>Coffee Shop</td>      <td>Asian Restaurant</td>      <td>Café</td>      <td>Sandwich Place</td>      <td>Bar</td>    </tr>    <tr>      <td>2</td>      <td>Coffee Shop</td>      <td>Bar</td>      <td>Café</td>      <td>Bookstore</td>      <td>Sandwich Place</td>    </tr>    <tr>      <td>2</td>      <td>Coffee Shop</td>      <td>Bar</td>      <td>Café</td>      <td>Dessert Shop</td>      <td>Art Gallery</td>    </tr>    <tr>      <td>2</td>      <td>Coffee Shop</td>      <td>Bar</td>      <td>Dessert Shop</td>      <td>Asian Restaurant</td>      <td>Café</td>    </tr>    <tr>      <td>2</td>      <td>Coffee Shop</td>      <td>Bookstore</td>      <td>Asian Restaurant</td>      <td>Dessert Shop</td>      <td>Food &amp; Drink Shop</td>    </tr>    <tr>      <td>2</td>      <td>Coffee Shop</td>      <td>Café</td>      <td>Bar</td>      <td>Dessert Shop</td>      <td>Art Gallery</td>    </tr>  </tbody></table>"
      ],
      "text/plain": [
       "<IPython.core.display.Markdown object>"
      ]
     },
     "metadata": {},
     "output_type": "display_data"
    }
   ],
   "source": [
    "_ = ShowResults(0,2)\n",
    "_ = ShowResults(1,2)"
   ]
  },
  {
   "cell_type": "markdown",
   "metadata": {},
   "source": [
    "For both regions Bars look to be the primary influences with important but secondary being Coffee Shops and Asian Restaurants."
   ]
  },
  {
   "cell_type": "code",
   "execution_count": 36,
   "metadata": {},
   "outputs": [
    {
     "data": {
      "text/markdown": [
       "#### **Region 0, Level 3**"
      ],
      "text/plain": [
       "<IPython.core.display.Markdown object>"
      ]
     },
     "metadata": {},
     "output_type": "display_data"
    },
    {
     "data": {
      "text/markdown": [
       "<table border=\"1\" class=\"dataframe\">  <thead>    <tr style=\"text-align: right;\">      <th>Cluster Labels</th>      <th>1st Most Common Venue</th>      <th>2nd Most Common Venue</th>      <th>3rd Most Common Venue</th>      <th>4th Most Common Venue</th>      <th>5th Most Common Venue</th>    </tr>  </thead>  <tbody>    <tr>      <td>0</td>      <td>Clothing Store</td>      <td>Coffee Shop</td>      <td>Italian Restaurant</td>      <td>Asian Restaurant</td>      <td>Burger Joint</td>    </tr>    <tr>      <td>0</td>      <td>Coffee Shop</td>      <td>Asian Restaurant</td>      <td>Clothing Store</td>      <td>Bar</td>      <td>Italian Restaurant</td>    </tr>    <tr>      <td>0</td>      <td>Coffee Shop</td>      <td>Asian Restaurant</td>      <td>Clothing Store</td>      <td>Pub</td>      <td>Japanese Restaurant</td>    </tr>    <tr>      <td>0</td>      <td>Coffee Shop</td>      <td>Asian Restaurant</td>      <td>Italian Restaurant</td>      <td>Department Store</td>      <td>Cocktail Bar</td>    </tr>    <tr>      <td>0</td>      <td>Coffee Shop</td>      <td>Asian Restaurant</td>      <td>Italian Restaurant</td>      <td>English Restaurant</td>      <td>Dessert Shop</td>    </tr>    <tr>      <td>0</td>      <td>Coffee Shop</td>      <td>Bar</td>      <td>Burger Joint</td>      <td>Clothing Store</td>      <td>Japanese Restaurant</td>    </tr>    <tr>      <td>0</td>      <td>Coffee Shop</td>      <td>Bar</td>      <td>Clothing Store</td>      <td>Burger Joint</td>      <td>Cocktail Bar</td>    </tr>    <tr>      <td>0</td>      <td>Coffee Shop</td>      <td>Bar</td>      <td>Clothing Store</td>      <td>Pub</td>      <td>Sandwich Place</td>    </tr>    <tr>      <td>0</td>      <td>Coffee Shop</td>      <td>Bar</td>      <td>Italian Restaurant</td>      <td>Asian Restaurant</td>      <td>Clothing Store</td>    </tr>    <tr>      <td>0</td>      <td>Coffee Shop</td>      <td>Burger Joint</td>      <td>Asian Restaurant</td>      <td>Clothing Store</td>      <td>English Restaurant</td>    </tr>    <tr>      <td>0</td>      <td>Coffee Shop</td>      <td>Burger Joint</td>      <td>Clothing Store</td>      <td>Pub</td>      <td>Asian Restaurant</td>    </tr>    <tr>      <td>0</td>      <td>Coffee Shop</td>      <td>Burger Joint</td>      <td>Clothing Store</td>      <td>Pub</td>      <td>Bar</td>    </tr>    <tr>      <td>0</td>      <td>Coffee Shop</td>      <td>Clothing Store</td>      <td>Bar</td>      <td>Burger Joint</td>      <td>Japanese Restaurant</td>    </tr>    <tr>      <td>0</td>      <td>Coffee Shop</td>      <td>Clothing Store</td>      <td>Bar</td>      <td>Indian Restaurant</td>      <td>Burger Joint</td>    </tr>    <tr>      <td>0</td>      <td>Coffee Shop</td>      <td>Clothing Store</td>      <td>Burger Joint</td>      <td>Pub</td>      <td>Asian Restaurant</td>    </tr>    <tr>      <td>0</td>      <td>Coffee Shop</td>      <td>Italian Restaurant</td>      <td>Clothing Store</td>      <td>Bar</td>      <td>Indian Restaurant</td>    </tr>    <tr>      <td>0</td>      <td>Coffee Shop</td>      <td>Italian Restaurant</td>      <td>English Restaurant</td>      <td>Dessert Shop</td>      <td>Doner Restaurant</td>    </tr>    <tr>      <td>0</td>      <td>Coffee Shop</td>      <td>Pub</td>      <td>Bar</td>      <td>Clothing Store</td>      <td>Sandwich Place</td>    </tr>    <tr>      <td>0</td>      <td>Coffee Shop</td>      <td>Pub</td>      <td>Italian Restaurant</td>      <td>Burger Joint</td>      <td>Cocktail Bar</td>    </tr>    <tr>      <td>0</td>      <td>Coffee Shop</td>      <td>Pub</td>      <td>Italian Restaurant</td>      <td>Dessert Shop</td>      <td>Café</td>    </tr>    <tr>      <td>1</td>      <td>Clothing Store</td>      <td>Coffee Shop</td>      <td>Bar</td>      <td>Pub</td>      <td>Sandwich Place</td>    </tr>    <tr>      <td>1</td>      <td>Clothing Store</td>      <td>Sandwich Place</td>      <td>Pub</td>      <td>Japanese Restaurant</td>      <td>Italian Restaurant</td>    </tr>    <tr>      <td>1</td>      <td>Coffee Shop</td>      <td>Bar</td>      <td>Sandwich Place</td>      <td>Italian Restaurant</td>      <td>Clothing Store</td>    </tr>    <tr>      <td>1</td>      <td>Coffee Shop</td>      <td>Platform</td>      <td>Bar</td>      <td>Sandwich Place</td>      <td>English Restaurant</td>    </tr>    <tr>      <td>1</td>      <td>Coffee Shop</td>      <td>Platform</td>      <td>Pub</td>      <td>Sandwich Place</td>      <td>Clothing Store</td>    </tr>    <tr>      <td>1</td>      <td>Coffee Shop</td>      <td>Pub</td>      <td>Sandwich Place</td>      <td>Bar</td>      <td>Platform</td>    </tr>    <tr>      <td>1</td>      <td>Platform</td>      <td>Coffee Shop</td>      <td>Bar</td>      <td>Japanese Restaurant</td>      <td>Sandwich Place</td>    </tr>    <tr>      <td>1</td>      <td>Platform</td>      <td>Coffee Shop</td>      <td>Bar</td>      <td>Pub</td>      <td>Sandwich Place</td>    </tr>    <tr>      <td>1</td>      <td>Platform</td>      <td>Coffee Shop</td>      <td>Bar</td>      <td>Sandwich Place</td>      <td>Pub</td>    </tr>    <tr>      <td>1</td>      <td>Platform</td>      <td>Coffee Shop</td>      <td>Sandwich Place</td>      <td>Bar</td>      <td>Pub</td>    </tr>    <tr>      <td>1</td>      <td>Pub</td>      <td>Clothing Store</td>      <td>Coffee Shop</td>      <td>Sandwich Place</td>      <td>Italian Restaurant</td>    </tr>    <tr>      <td>1</td>      <td>Pub</td>      <td>Clothing Store</td>      <td>Sandwich Place</td>      <td>Bar</td>      <td>Asian Restaurant</td>    </tr>  </tbody></table>"
      ],
      "text/plain": [
       "<IPython.core.display.Markdown object>"
      ]
     },
     "metadata": {},
     "output_type": "display_data"
    },
    {
     "data": {
      "text/markdown": [
       "#### **Region 1, Level 3**"
      ],
      "text/plain": [
       "<IPython.core.display.Markdown object>"
      ]
     },
     "metadata": {},
     "output_type": "display_data"
    },
    {
     "data": {
      "text/markdown": [
       "<table border=\"1\" class=\"dataframe\">  <thead>    <tr style=\"text-align: right;\">      <th>Cluster Labels</th>      <th>1st Most Common Venue</th>      <th>2nd Most Common Venue</th>      <th>3rd Most Common Venue</th>      <th>4th Most Common Venue</th>      <th>5th Most Common Venue</th>    </tr>  </thead>  <tbody>    <tr>      <td>0</td>      <td>Coffee Shop</td>      <td>Bookstore</td>      <td>Thai Restaurant</td>      <td>Café</td>      <td>Sandwich Place</td>    </tr>    <tr>      <td>0</td>      <td>Coffee Shop</td>      <td>Café</td>      <td>Hotel</td>      <td>Sandwich Place</td>      <td>Burger Joint</td>    </tr>    <tr>      <td>0</td>      <td>Coffee Shop</td>      <td>Café</td>      <td>Pub</td>      <td>Thai Restaurant</td>      <td>Art Gallery</td>    </tr>    <tr>      <td>0</td>      <td>Coffee Shop</td>      <td>Café</td>      <td>Pub</td>      <td>Thai Restaurant</td>      <td>Sandwich Place</td>    </tr>    <tr>      <td>0</td>      <td>Coffee Shop</td>      <td>Café</td>      <td>Thai Restaurant</td>      <td>Pub</td>      <td>Sandwich Place</td>    </tr>    <tr>      <td>0</td>      <td>Coffee Shop</td>      <td>Pub</td>      <td>Café</td>      <td>Bookstore</td>      <td>Art Gallery</td>    </tr>    <tr>      <td>0</td>      <td>Coffee Shop</td>      <td>Pub</td>      <td>Café</td>      <td>Thai Restaurant</td>      <td>Art Gallery</td>    </tr>    <tr>      <td>0</td>      <td>Coffee Shop</td>      <td>Pub</td>      <td>Café</td>      <td>Thai Restaurant</td>      <td>Bookstore</td>    </tr>    <tr>      <td>0</td>      <td>Coffee Shop</td>      <td>Pub</td>      <td>Café</td>      <td>Thai Restaurant</td>      <td>Hotel</td>    </tr>    <tr>      <td>0</td>      <td>Coffee Shop</td>      <td>Pub</td>      <td>Café</td>      <td>Thai Restaurant</td>      <td>Restaurant</td>    </tr>    <tr>      <td>0</td>      <td>Coffee Shop</td>      <td>Pub</td>      <td>Thai Restaurant</td>      <td>Bookstore</td>      <td>Sandwich Place</td>    </tr>    <tr>      <td>0</td>      <td>Coffee Shop</td>      <td>Pub</td>      <td>Thai Restaurant</td>      <td>Café</td>      <td>Restaurant</td>    </tr>    <tr>      <td>0</td>      <td>Coffee Shop</td>      <td>Pub</td>      <td>Thai Restaurant</td>      <td>Café</td>      <td>Sandwich Place</td>    </tr>    <tr>      <td>0</td>      <td>Coffee Shop</td>      <td>Thai Restaurant</td>      <td>Bookstore</td>      <td>Café</td>      <td>Sandwich Place</td>    </tr>    <tr>      <td>0</td>      <td>Nightclub</td>      <td>Pub</td>      <td>Indian Restaurant</td>      <td>Hotel</td>      <td>Café</td>    </tr>    <tr>      <td>0</td>      <td>Pub</td>      <td>Bakery</td>      <td>American Restaurant</td>      <td>Sandwich Place</td>      <td>Indian Restaurant</td>    </tr>    <tr>      <td>0</td>      <td>Pub</td>      <td>Café</td>      <td>Bakery</td>      <td>American Restaurant</td>      <td>Indian Restaurant</td>    </tr>    <tr>      <td>0</td>      <td>Pub</td>      <td>Café</td>      <td>Bakery</td>      <td>American Restaurant</td>      <td>Restaurant</td>    </tr>    <tr>      <td>0</td>      <td>Pub</td>      <td>Coffee Shop</td>      <td>Café</td>      <td>Thai Restaurant</td>      <td>Art Gallery</td>    </tr>    <tr>      <td>0</td>      <td>Pub</td>      <td>Coffee Shop</td>      <td>Thai Restaurant</td>      <td>Bakery</td>      <td>Café</td>    </tr>    <tr>      <td>0</td>      <td>Pub</td>      <td>Coffee Shop</td>      <td>Thai Restaurant</td>      <td>Café</td>      <td>Nightclub</td>    </tr>    <tr>      <td>0</td>      <td>Pub</td>      <td>Nightclub</td>      <td>Coffee Shop</td>      <td>American Restaurant</td>      <td>Japanese Restaurant</td>    </tr>    <tr>      <td>1</td>      <td>Burger Joint</td>      <td>Sandwich Place</td>      <td>Pizza Place</td>      <td>Restaurant</td>      <td>Hotel</td>    </tr>    <tr>      <td>1</td>      <td>Coffee Shop</td>      <td>Pizza Place</td>      <td>Sandwich Place</td>      <td>Hotel</td>      <td>Restaurant</td>    </tr>    <tr>      <td>1</td>      <td>Pizza Place</td>      <td>Hotel</td>      <td>Coffee Shop</td>      <td>Sandwich Place</td>      <td>Restaurant</td>    </tr>    <tr>      <td>1</td>      <td>Pub</td>      <td>Pizza Place</td>      <td>Burger Joint</td>      <td>Coffee Shop</td>      <td>Hotel</td>    </tr>  </tbody></table>"
      ],
      "text/plain": [
       "<IPython.core.display.Markdown object>"
      ]
     },
     "metadata": {},
     "output_type": "display_data"
    }
   ],
   "source": [
    "_ = ShowResults(0,3)\n",
    "_ = ShowResults(1,3)"
   ]
  },
  {
   "cell_type": "markdown",
   "metadata": {},
   "source": [
    "At level 3 Coffee Shop and Pub are the primary influences."
   ]
  },
  {
   "cell_type": "code",
   "execution_count": 37,
   "metadata": {},
   "outputs": [
    {
     "data": {
      "text/markdown": [
       "#### **Region 0, Level 4**"
      ],
      "text/plain": [
       "<IPython.core.display.Markdown object>"
      ]
     },
     "metadata": {},
     "output_type": "display_data"
    },
    {
     "data": {
      "text/markdown": [
       "<table border=\"1\" class=\"dataframe\">  <thead>    <tr style=\"text-align: right;\">      <th>Cluster Labels</th>      <th>1st Most Common Venue</th>      <th>2nd Most Common Venue</th>      <th>3rd Most Common Venue</th>      <th>4th Most Common Venue</th>      <th>5th Most Common Venue</th>    </tr>  </thead>  <tbody>    <tr>      <td>0</td>      <td>Asian Restaurant</td>      <td>Clothing Store</td>      <td>Coffee Shop</td>      <td>Burger Joint</td>      <td>Italian Restaurant</td>    </tr>    <tr>      <td>0</td>      <td>Coffee Shop</td>      <td>Asian Restaurant</td>      <td>Clothing Store</td>      <td>Italian Restaurant</td>      <td>Bar</td>    </tr>    <tr>      <td>0</td>      <td>Coffee Shop</td>      <td>Asian Restaurant</td>      <td>Italian Restaurant</td>      <td>Café</td>      <td>Clothing Store</td>    </tr>    <tr>      <td>0</td>      <td>Coffee Shop</td>      <td>Asian Restaurant</td>      <td>Italian Restaurant</td>      <td>English Restaurant</td>      <td>Dessert Shop</td>    </tr>    <tr>      <td>0</td>      <td>Coffee Shop</td>      <td>Bar</td>      <td>Asian Restaurant</td>      <td>Clothing Store</td>      <td>Pub</td>    </tr>    <tr>      <td>0</td>      <td>Coffee Shop</td>      <td>Bar</td>      <td>Clothing Store</td>      <td>Burger Joint</td>      <td>English Restaurant</td>    </tr>    <tr>      <td>0</td>      <td>Coffee Shop</td>      <td>Bar</td>      <td>Clothing Store</td>      <td>Burger Joint</td>      <td>Sushi Restaurant</td>    </tr>    <tr>      <td>0</td>      <td>Coffee Shop</td>      <td>Burger Joint</td>      <td>Asian Restaurant</td>      <td>Clothing Store</td>      <td>Pub</td>    </tr>    <tr>      <td>0</td>      <td>Coffee Shop</td>      <td>Burger Joint</td>      <td>Clothing Store</td>      <td>Cocktail Bar</td>      <td>Asian Restaurant</td>    </tr>    <tr>      <td>0</td>      <td>Coffee Shop</td>      <td>Burger Joint</td>      <td>Clothing Store</td>      <td>Pub</td>      <td>Bakery</td>    </tr>    <tr>      <td>0</td>      <td>Coffee Shop</td>      <td>Burger Joint</td>      <td>Clothing Store</td>      <td>Pub</td>      <td>Bar</td>    </tr>    <tr>      <td>0</td>      <td>Coffee Shop</td>      <td>Clothing Store</td>      <td>Asian Restaurant</td>      <td>Sushi Restaurant</td>      <td>Burger Joint</td>    </tr>    <tr>      <td>0</td>      <td>Coffee Shop</td>      <td>Clothing Store</td>      <td>Bar</td>      <td>Burger Joint</td>      <td>Sushi Restaurant</td>    </tr>    <tr>      <td>0</td>      <td>Coffee Shop</td>      <td>Clothing Store</td>      <td>Department Store</td>      <td>Sushi Restaurant</td>      <td>Indian Restaurant</td>    </tr>    <tr>      <td>0</td>      <td>Coffee Shop</td>      <td>Clothing Store</td>      <td>Italian Restaurant</td>      <td>Department Store</td>      <td>Sushi Restaurant</td>    </tr>    <tr>      <td>0</td>      <td>Coffee Shop</td>      <td>Clothing Store</td>      <td>Pub</td>      <td>Bar</td>      <td>Sandwich Place</td>    </tr>    <tr>      <td>0</td>      <td>Coffee Shop</td>      <td>Italian Restaurant</td>      <td>English Restaurant</td>      <td>Dessert Shop</td>      <td>Doner Restaurant</td>    </tr>    <tr>      <td>0</td>      <td>Coffee Shop</td>      <td>Pub</td>      <td>Burger Joint</td>      <td>Italian Restaurant</td>      <td>Department Store</td>    </tr>    <tr>      <td>0</td>      <td>Coffee Shop</td>      <td>Pub</td>      <td>Italian Restaurant</td>      <td>Dessert Shop</td>      <td>Pie Shop</td>    </tr>    <tr>      <td>1</td>      <td>Clothing Store</td>      <td>Bar</td>      <td>Coffee Shop</td>      <td>Pub</td>      <td>Sandwich Place</td>    </tr>    <tr>      <td>1</td>      <td>Clothing Store</td>      <td>Pub</td>      <td>Sandwich Place</td>      <td>Asian Restaurant</td>      <td>Bar</td>    </tr>    <tr>      <td>1</td>      <td>Clothing Store</td>      <td>Sandwich Place</td>      <td>Pub</td>      <td>Sushi Restaurant</td>      <td>Coffee Shop</td>    </tr>    <tr>      <td>1</td>      <td>Coffee Shop</td>      <td>Bar</td>      <td>Bakery</td>      <td>Pub</td>      <td>Clothing Store</td>    </tr>    <tr>      <td>1</td>      <td>Coffee Shop</td>      <td>Bar</td>      <td>Clothing Store</td>      <td>Pub</td>      <td>Sandwich Place</td>    </tr>    <tr>      <td>1</td>      <td>Coffee Shop</td>      <td>Platform</td>      <td>Pub</td>      <td>Sandwich Place</td>      <td>Bar</td>    </tr>    <tr>      <td>1</td>      <td>Coffee Shop</td>      <td>Platform</td>      <td>Sandwich Place</td>      <td>Bar</td>      <td>Italian Restaurant</td>    </tr>    <tr>      <td>1</td>      <td>Coffee Shop</td>      <td>Sandwich Place</td>      <td>Pub</td>      <td>Clothing Store</td>      <td>Bar</td>    </tr>    <tr>      <td>1</td>      <td>Platform</td>      <td>Coffee Shop</td>      <td>Bar</td>      <td>Pub</td>      <td>Sandwich Place</td>    </tr>    <tr>      <td>1</td>      <td>Platform</td>      <td>Coffee Shop</td>      <td>Bar</td>      <td>Sandwich Place</td>      <td>Pub</td>    </tr>    <tr>      <td>1</td>      <td>Platform</td>      <td>Coffee Shop</td>      <td>Bar</td>      <td>Sushi Restaurant</td>      <td>Sandwich Place</td>    </tr>    <tr>      <td>1</td>      <td>Platform</td>      <td>Coffee Shop</td>      <td>Sandwich Place</td>      <td>Bar</td>      <td>Pub</td>    </tr>    <tr>      <td>1</td>      <td>Pub</td>      <td>Clothing Store</td>      <td>Bar</td>      <td>Sandwich Place</td>      <td>Asian Restaurant</td>    </tr>  </tbody></table>"
      ],
      "text/plain": [
       "<IPython.core.display.Markdown object>"
      ]
     },
     "metadata": {},
     "output_type": "display_data"
    },
    {
     "data": {
      "text/markdown": [
       "#### **Region 1, Level 4**"
      ],
      "text/plain": [
       "<IPython.core.display.Markdown object>"
      ]
     },
     "metadata": {},
     "output_type": "display_data"
    },
    {
     "data": {
      "text/markdown": [
       "<table border=\"1\" class=\"dataframe\">  <thead>    <tr style=\"text-align: right;\">      <th>Cluster Labels</th>      <th>1st Most Common Venue</th>      <th>2nd Most Common Venue</th>      <th>3rd Most Common Venue</th>      <th>4th Most Common Venue</th>      <th>5th Most Common Venue</th>    </tr>  </thead>  <tbody>    <tr>      <td>0</td>      <td>Coffee Shop</td>      <td>Café</td>      <td>Pub</td>      <td>Thai Restaurant</td>      <td>Art Gallery</td>    </tr>    <tr>      <td>0</td>      <td>Coffee Shop</td>      <td>Café</td>      <td>Pub</td>      <td>Thai Restaurant</td>      <td>Sandwich Place</td>    </tr>    <tr>      <td>0</td>      <td>Coffee Shop</td>      <td>Café</td>      <td>Sandwich Place</td>      <td>Hotel</td>      <td>Pizza Place</td>    </tr>    <tr>      <td>0</td>      <td>Coffee Shop</td>      <td>Pub</td>      <td>Café</td>      <td>Thai Restaurant</td>      <td>Hotel</td>    </tr>    <tr>      <td>0</td>      <td>Coffee Shop</td>      <td>Pub</td>      <td>Café</td>      <td>Thai Restaurant</td>      <td>Restaurant</td>    </tr>    <tr>      <td>0</td>      <td>Coffee Shop</td>      <td>Pub</td>      <td>Café</td>      <td>Thai Restaurant</td>      <td>Sandwich Place</td>    </tr>    <tr>      <td>0</td>      <td>Coffee Shop</td>      <td>Pub</td>      <td>Thai Restaurant</td>      <td>Café</td>      <td>Restaurant</td>    </tr>    <tr>      <td>0</td>      <td>Coffee Shop</td>      <td>Pub</td>      <td>Thai Restaurant</td>      <td>Sandwich Place</td>      <td>Restaurant</td>    </tr>    <tr>      <td>0</td>      <td>Coffee Shop</td>      <td>Sandwich Place</td>      <td>Thai Restaurant</td>      <td>Café</td>      <td>Restaurant</td>    </tr>    <tr>      <td>0</td>      <td>Coffee Shop</td>      <td>Thai Restaurant</td>      <td>Bookstore</td>      <td>Café</td>      <td>Sandwich Place</td>    </tr>    <tr>      <td>0</td>      <td>Pub</td>      <td>Bakery</td>      <td>Sandwich Place</td>      <td>Indian Restaurant</td>      <td>Coffee Shop</td>    </tr>    <tr>      <td>0</td>      <td>Pub</td>      <td>Café</td>      <td>Bakery</td>      <td>American Restaurant</td>      <td>Clothing Store</td>    </tr>    <tr>      <td>0</td>      <td>Pub</td>      <td>Café</td>      <td>Bakery</td>      <td>Roof Deck</td>      <td>Hotel</td>    </tr>    <tr>      <td>0</td>      <td>Pub</td>      <td>Coffee Shop</td>      <td>Café</td>      <td>Thai Restaurant</td>      <td>Art Gallery</td>    </tr>    <tr>      <td>0</td>      <td>Pub</td>      <td>Coffee Shop</td>      <td>Thai Restaurant</td>      <td>Bakery</td>      <td>Sandwich Place</td>    </tr>    <tr>      <td>0</td>      <td>Pub</td>      <td>Coffee Shop</td>      <td>Thai Restaurant</td>      <td>Café</td>      <td>Nightclub</td>    </tr>    <tr>      <td>0</td>      <td>Pub</td>      <td>Nightclub</td>      <td>Coffee Shop</td>      <td>American Restaurant</td>      <td>Sandwich Place</td>    </tr>    <tr>      <td>0</td>      <td>Pub</td>      <td>Nightclub</td>      <td>Hotel</td>      <td>Indian Restaurant</td>      <td>Thai Restaurant</td>    </tr>    <tr>      <td>1</td>      <td>Coffee Shop</td>      <td>Café</td>      <td>Hotel</td>      <td>Pizza Place</td>      <td>Sandwich Place</td>    </tr>    <tr>      <td>1</td>      <td>Coffee Shop</td>      <td>Sandwich Place</td>      <td>Pizza Place</td>      <td>Hotel</td>      <td>Restaurant</td>    </tr>    <tr>      <td>1</td>      <td>Pizza Place</td>      <td>Burger Joint</td>      <td>Sandwich Place</td>      <td>Coffee Shop</td>      <td>Restaurant</td>    </tr>    <tr>      <td>1</td>      <td>Pub</td>      <td>Restaurant</td>      <td>Pizza Place</td>      <td>Burger Joint</td>      <td>Hotel</td>    </tr>  </tbody></table>"
      ],
      "text/plain": [
       "<IPython.core.display.Markdown object>"
      ]
     },
     "metadata": {},
     "output_type": "display_data"
    }
   ],
   "source": [
    "_ = ShowResults(0,4)\n",
    "_ = ShowResults(1,4)"
   ]
  },
  {
   "cell_type": "markdown",
   "metadata": {},
   "source": [
    "At level 4 Coffee Shop and Pub are the primary influences."
   ]
  },
  {
   "cell_type": "markdown",
   "metadata": {},
   "source": [
    "## DISCUSSION\n",
    "Discussion section where you discuss any observations you noted and any recommendations you can make based on the results."
   ]
  },
  {
   "cell_type": "markdown",
   "metadata": {},
   "source": [
    "* While Food related venues are the primary influence at level 1, at higher levels it loses out to such venues as Coffee SHops and Bars.\n",
    "\n",
    "* The one-hot encoding looks at the relative frequencies of venues in the area surrounding the cell but  this does not take into account the numbers of venues. One cell may have 20 venues nearby with another one having only 5 but their relative frequencies could be the same. To this algorithm there would seem to be no difference.\n",
    "\n",
    "* The higher levels (3 and 4) do not give much more information since the venue categories across both levels are almost the same. This is due to the original categorisation by FourSquare but is not necessarily a problem since not using level 4 can make the investigation quicker.\n",
    "\n",
    "* Could include the non-hotspots to see if they can be predicted. We have only covered the venue types for crime hotspots. It would make an interesting project to see if there is a way to include non-hotspot information to predict crime hotspots.\n",
    "\n",
    "* To determine crime hotspots we used a simple total number of crimes as the statistic. Another method is to use an area based relative statistic such as Getis-Ord which looks at the local totals vs the normally distributed totals across the area.\n",
    "\n",
    "* We have used the crimes across all of the crime categories but perhaps there is a subset that could be more useful for crime hotspot prediction.\n",
    "    \n",
    "* We used a cell size of 100 metres with a search radius of 300 metres for both crime search. What about 50m, or 100m?\n",
    "\n",
    "* A naive but effective way to determine crime hotspots would be to merely look at the number of venues near to a cell. \n",
    "\n",
    "* An extension of the naive method just described could be to take the general kind of venue into account. A large number of Art Galleries is unlikely to influence the crime rate and so could be excluded. However, in reality those galleries woudl be accompanied by support businesses that intend to grab some footfall."
   ]
  },
  {
   "cell_type": "markdown",
   "metadata": {},
   "source": [
    "## CONCLUSION\n",
    "\n",
    "There is a lot of useful data collected for this project even if the kmeans approach did not yield definitive answers."
   ]
  }
 ],
 "metadata": {
  "kernelspec": {
   "display_name": "Python 3",
   "language": "python",
   "name": "python3"
  },
  "language_info": {
   "codemirror_mode": {
    "name": "ipython",
    "version": 3
   },
   "file_extension": ".py",
   "mimetype": "text/x-python",
   "name": "python",
   "nbconvert_exporter": "python",
   "pygments_lexer": "ipython3",
   "version": "3.7.4"
  }
 },
 "nbformat": 4,
 "nbformat_minor": 4
}
